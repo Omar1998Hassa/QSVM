{
 "cells": [
  {
   "cell_type": "code",
   "execution_count": 1,
   "id": "aeb24d7d",
   "metadata": {},
   "outputs": [
    {
     "name": "stdout",
     "output_type": "stream",
     "text": [
      "Requirement already satisfied: optuna in c:\\users\\omar\\appdata\\local\\programs\\python\\python311\\lib\\site-packages (3.4.0)\n",
      "Requirement already satisfied: alembic>=1.5.0 in c:\\users\\omar\\appdata\\local\\programs\\python\\python311\\lib\\site-packages (from optuna) (1.13.1)\n",
      "Requirement already satisfied: colorlog in c:\\users\\omar\\appdata\\local\\programs\\python\\python311\\lib\\site-packages (from optuna) (6.8.2)\n",
      "Requirement already satisfied: numpy in c:\\users\\omar\\appdata\\local\\programs\\python\\python311\\lib\\site-packages (from optuna) (1.26.4)\n",
      "Requirement already satisfied: packaging>=20.0 in c:\\users\\omar\\appdata\\roaming\\python\\python311\\site-packages (from optuna) (23.2)\n",
      "Requirement already satisfied: sqlalchemy>=1.3.0 in c:\\users\\omar\\appdata\\local\\programs\\python\\python311\\lib\\site-packages (from optuna) (2.0.29)\n",
      "Requirement already satisfied: tqdm in c:\\users\\omar\\appdata\\local\\programs\\python\\python311\\lib\\site-packages (from optuna) (4.66.1)\n",
      "Requirement already satisfied: PyYAML in c:\\users\\omar\\appdata\\local\\programs\\python\\python311\\lib\\site-packages (from optuna) (6.0.1)\n",
      "Requirement already satisfied: Mako in c:\\users\\omar\\appdata\\local\\programs\\python\\python311\\lib\\site-packages (from alembic>=1.5.0->optuna) (1.3.3)\n",
      "Requirement already satisfied: typing-extensions>=4 in c:\\users\\omar\\appdata\\local\\programs\\python\\python311\\lib\\site-packages (from alembic>=1.5.0->optuna) (4.9.0)\n",
      "Requirement already satisfied: greenlet!=0.4.17 in c:\\users\\omar\\appdata\\local\\programs\\python\\python311\\lib\\site-packages (from sqlalchemy>=1.3.0->optuna) (3.0.3)\n",
      "Requirement already satisfied: colorama in c:\\users\\omar\\appdata\\roaming\\python\\python311\\site-packages (from colorlog->optuna) (0.4.6)\n",
      "Requirement already satisfied: MarkupSafe>=0.9.2 in c:\\users\\omar\\appdata\\local\\programs\\python\\python311\\lib\\site-packages (from Mako->alembic>=1.5.0->optuna) (2.1.4)\n"
     ]
    }
   ],
   "source": [
    "!pip install optuna"
   ]
  },
  {
   "cell_type": "code",
   "execution_count": 3,
   "id": "a9e262df",
   "metadata": {},
   "outputs": [
    {
     "name": "stdout",
     "output_type": "stream",
     "text": [
      "Collecting qiskit_machine_learning\n",
      "  Downloading qiskit_machine_learning-0.7.2-py3-none-any.whl.metadata (12 kB)\n",
      "Requirement already satisfied: qiskit>=0.44 in c:\\users\\omar\\appdata\\local\\programs\\python\\python311\\lib\\site-packages (from qiskit_machine_learning) (1.0.2)\n",
      "Collecting qiskit-algorithms>=0.2.0 (from qiskit_machine_learning)\n",
      "  Downloading qiskit_algorithms-0.3.0-py3-none-any.whl.metadata (4.2 kB)\n",
      "Requirement already satisfied: scipy>=1.4 in c:\\users\\omar\\appdata\\local\\programs\\python\\python311\\lib\\site-packages (from qiskit_machine_learning) (1.12.0)\n",
      "Requirement already satisfied: numpy>=1.17 in c:\\users\\omar\\appdata\\local\\programs\\python\\python311\\lib\\site-packages (from qiskit_machine_learning) (1.26.4)\n",
      "Requirement already satisfied: psutil>=5 in c:\\users\\omar\\appdata\\roaming\\python\\python311\\site-packages (from qiskit_machine_learning) (5.9.8)\n",
      "Requirement already satisfied: scikit-learn>=1.2.0 in c:\\users\\omar\\appdata\\local\\programs\\python\\python311\\lib\\site-packages (from qiskit_machine_learning) (1.3.2)\n",
      "Collecting fastdtw (from qiskit_machine_learning)\n",
      "  Downloading fastdtw-0.3.4.tar.gz (133 kB)\n",
      "     ---------------------------------------- 0.0/133.4 kB ? eta -:--:--\n",
      "     ---------------------------------------- 0.0/133.4 kB ? eta -:--:--\n",
      "     ---------------------------------------- 0.0/133.4 kB ? eta -:--:--\n",
      "     ---------------------------------------- 0.0/133.4 kB ? eta -:--:--\n",
      "     ----------------- --------------------- 61.4/133.4 kB 3.2 MB/s eta 0:00:01\n",
      "     -------------------------- ------------ 92.2/133.4 kB 1.3 MB/s eta 0:00:01\n",
      "     -------------------------------------- 133.4/133.4 kB 1.1 MB/s eta 0:00:00\n",
      "  Installing build dependencies: started\n",
      "  Installing build dependencies: finished with status 'done'\n",
      "  Getting requirements to build wheel: started\n",
      "  Getting requirements to build wheel: finished with status 'done'\n",
      "  Installing backend dependencies: started\n",
      "  Installing backend dependencies: finished with status 'done'\n",
      "  Preparing metadata (pyproject.toml): started\n",
      "  Preparing metadata (pyproject.toml): finished with status 'done'\n",
      "Requirement already satisfied: setuptools>=40.1.0 in c:\\users\\omar\\appdata\\local\\programs\\python\\python311\\lib\\site-packages (from qiskit_machine_learning) (69.5.1)\n",
      "Requirement already satisfied: dill>=0.3.4 in c:\\users\\omar\\appdata\\local\\programs\\python\\python311\\lib\\site-packages (from qiskit_machine_learning) (0.3.8)\n",
      "Requirement already satisfied: rustworkx>=0.14.0 in c:\\users\\omar\\appdata\\local\\programs\\python\\python311\\lib\\site-packages (from qiskit>=0.44->qiskit_machine_learning) (0.14.2)\n",
      "Requirement already satisfied: sympy>=1.3 in c:\\users\\omar\\appdata\\local\\programs\\python\\python311\\lib\\site-packages (from qiskit>=0.44->qiskit_machine_learning) (1.12)\n",
      "Requirement already satisfied: python-dateutil>=2.8.0 in c:\\users\\omar\\appdata\\roaming\\python\\python311\\site-packages (from qiskit>=0.44->qiskit_machine_learning) (2.8.2)\n",
      "Requirement already satisfied: stevedore>=3.0.0 in c:\\users\\omar\\appdata\\local\\programs\\python\\python311\\lib\\site-packages (from qiskit>=0.44->qiskit_machine_learning) (5.2.0)\n",
      "Requirement already satisfied: typing-extensions in c:\\users\\omar\\appdata\\local\\programs\\python\\python311\\lib\\site-packages (from qiskit>=0.44->qiskit_machine_learning) (4.9.0)\n",
      "Requirement already satisfied: symengine>=0.11 in c:\\users\\omar\\appdata\\local\\programs\\python\\python311\\lib\\site-packages (from qiskit>=0.44->qiskit_machine_learning) (0.11.0)\n",
      "Requirement already satisfied: joblib>=1.1.1 in c:\\users\\omar\\appdata\\local\\programs\\python\\python311\\lib\\site-packages (from scikit-learn>=1.2.0->qiskit_machine_learning) (1.3.2)\n",
      "Requirement already satisfied: threadpoolctl>=2.0.0 in c:\\users\\omar\\appdata\\local\\programs\\python\\python311\\lib\\site-packages (from scikit-learn>=1.2.0->qiskit_machine_learning) (3.3.0)\n",
      "Requirement already satisfied: six>=1.5 in c:\\users\\omar\\appdata\\roaming\\python\\python311\\site-packages (from python-dateutil>=2.8.0->qiskit>=0.44->qiskit_machine_learning) (1.16.0)\n",
      "Requirement already satisfied: pbr!=2.1.0,>=2.0.0 in c:\\users\\omar\\appdata\\local\\programs\\python\\python311\\lib\\site-packages (from stevedore>=3.0.0->qiskit>=0.44->qiskit_machine_learning) (6.0.0)\n",
      "Requirement already satisfied: mpmath>=0.19 in c:\\users\\omar\\appdata\\local\\programs\\python\\python311\\lib\\site-packages (from sympy>=1.3->qiskit>=0.44->qiskit_machine_learning) (1.3.0)\n",
      "Downloading qiskit_machine_learning-0.7.2-py3-none-any.whl (97 kB)\n",
      "   ---------------------------------------- 0.0/97.8 kB ? eta -:--:--\n",
      "   -------------------- ------------------- 51.2/97.8 kB 2.7 MB/s eta 0:00:01\n",
      "   ---------------------------------------- 97.8/97.8 kB 1.9 MB/s eta 0:00:00\n",
      "Downloading qiskit_algorithms-0.3.0-py3-none-any.whl (308 kB)\n",
      "   ---------------------------------------- 0.0/308.6 kB ? eta -:--:--\n",
      "   --- ------------------------------------ 30.7/308.6 kB 1.3 MB/s eta 0:00:01\n",
      "   -------------- ------------------------- 112.6/308.6 kB 2.2 MB/s eta 0:00:01\n",
      "   -------------------------- ------------- 204.8/308.6 kB 2.1 MB/s eta 0:00:01\n",
      "   ------------------------------------- -- 286.7/308.6 kB 2.2 MB/s eta 0:00:01\n",
      "   ---------------------------------------- 308.6/308.6 kB 1.7 MB/s eta 0:00:00\n",
      "Building wheels for collected packages: fastdtw\n",
      "  Building wheel for fastdtw (pyproject.toml): started\n",
      "  Building wheel for fastdtw (pyproject.toml): finished with status 'done'\n",
      "  Created wheel for fastdtw: filename=fastdtw-0.3.4-py3-none-any.whl size=3586 sha256=8a896ff2d6acafaeb3bad3c86ce72c973522b0b331f30379a0045b568dd1c3ff\n",
      "  Stored in directory: c:\\users\\omar\\appdata\\local\\pip\\cache\\wheels\\5c\\8a\\f6\\fd3df9a9714677410a5ccbf3ca519e66db4a54a1c46ea95332\n",
      "Successfully built fastdtw\n",
      "Installing collected packages: fastdtw, qiskit-algorithms, qiskit_machine_learning\n",
      "Successfully installed fastdtw-0.3.4 qiskit-algorithms-0.3.0 qiskit_machine_learning-0.7.2\n",
      "Note: you may need to restart the kernel to use updated packages.\n"
     ]
    }
   ],
   "source": [
    "!pip install qiskit_machine_learning"
   ]
  },
  {
   "cell_type": "markdown",
   "id": "4408324c-6b1e-4651-b09e-8c053eeb2fbb",
   "metadata": {},
   "source": []
  },
  {
   "cell_type": "markdown",
   "id": "b4956b50",
   "metadata": {},
   "source": [
    "### Importing Libraries"
   ]
  },
  {
   "cell_type": "markdown",
   "id": "e63d53f0",
   "metadata": {},
   "source": [
    "in the code bellow the required liberaries for our task are imported. "
   ]
  },
  {
   "cell_type": "code",
   "execution_count": 2,
   "id": "b86990ed",
   "metadata": {},
   "outputs": [
    {
     "name": "stderr",
     "output_type": "stream",
     "text": [
      "c:\\Users\\Omar\\AppData\\Local\\Programs\\Python\\Python311\\Lib\\site-packages\\tqdm\\auto.py:21: TqdmWarning: IProgress not found. Please update jupyter and ipywidgets. See https://ipywidgets.readthedocs.io/en/stable/user_install.html\n",
      "  from .autonotebook import tqdm as notebook_tqdm\n"
     ]
    }
   ],
   "source": [
    "import optuna\n",
    "from sklearn import model_selection\n",
    "import matplotlib.pyplot as plt\n",
    "import numpy as np\n",
    "import math\n",
    "\n",
    "from sklearn.svm import *\n",
    "from sklearn.cluster import *\n",
    "from sklearn.metrics import *\n",
    "from sklearn.decomposition import *\n",
    "from sklearn.preprocessing import MinMaxScaler\n",
    "\n",
    "from qiskit import *\n",
    "from qiskit.circuit.library import *\n",
    "from qiskit.utils import *\n",
    "from qiskit_machine_learning.algorithms import *\n",
    "from qiskit_machine_learning.kernels import *\n",
    "from qiskit_machine_learning.datasets import *\n",
    "import warnings\n",
    "from qiskit.primitives import Sampler\n",
    "from qiskit_algorithms.state_fidelities import ComputeUncompute\n",
    "from qiskit_machine_learning.kernels import FidelityQuantumKernel\n",
    "from qiskit.circuit.library import ZZFeatureMap\n",
    "\n",
    "from qiskit_machine_learning.datasets import ad_hoc_data\n",
    "\n",
    "warnings.filterwarnings(\"ignore\")\n",
    "from qiskit_algorithms.utils import algorithm_globals\n",
    "\n",
    "seed = 12345\n",
    "np.random.seed(seed)\n",
    "algorithm_globals.random_seed = seed\n"
   ]
  },
  {
   "cell_type": "markdown",
   "id": "062925c4",
   "metadata": {},
   "source": [
    "### Dataset Generation\n",
    "\n",
    "To generate dummy data for this tutorial, you can utilize the `ad_hoc_data` function from `qiskit_machine_learning.datasets`. This function allows you to specify the size of the training and test samples, along with the number of features (`n`) for each instance in the sample. An important parameter to consider is `gap`, which defines how close the classes are from each other. The smaller the gap, the harder it will be to classify the samples.\n",
    "\n",
    "#### Function: generate_adhoc_data\n",
    "\n",
    "#### Description:\n",
    "This function generates ad hoc dummy data using the `ad_hoc_data` function from `qiskit_machine_learning.datasets`. It provides flexibility in controlling the size of the dataset, the number of features per instance, and the gap between classes.\n",
    "\n",
    "#### Parameters:\n",
    "- **training_size** (*int*): Size of the training sample.\n",
    "- **test_size** (*int*): Size of the test sample.\n",
    "- **n_features** (*int*): Number of features for each instance in the sample.\n",
    "- **gap** (*float*): Defines how close the classes are from each other. The smaller the gap, the harder it will be to classify the samples.\n",
    "- **plot_data** (*bool*): Whether to plot the generated data. Default is False.\n",
    "- **one_hot** (*bool*): Whether to use one-hot encoding for the labels. Default is False.\n",
    "- **include_sample_total** (*bool*): Whether to include the total number of samples in the return values. Default is True.\n",
    "\n",
    "#### Returns:\n",
    "- **train_features** (*numpy.ndarray*): Feature matrix of the training set.\n",
    "- **train_labels** (*numpy.ndarray*): Labels of the training set.\n",
    "- **test_features** (*numpy.ndarray*): Feature matrix of the test set.\n",
    "- **test_labels** (*numpy.ndarray*): Labels of the test set.\n",
    "- **adhoc_total** (*int*): Total number of samples if include_sample_total is True, otherwise None.\n"
   ]
  },
  {
   "cell_type": "code",
   "execution_count": 3,
   "id": "a684d76a",
   "metadata": {},
   "outputs": [],
   "source": [
    "def generate_adhoc_data(training_size, test_size, n_features, gap, plot_data=False, one_hot=False, include_sample_total=True):\n",
    "    \"\"\"\n",
    "    Generate dummy data using the ad_hoc_data function from qiskit_machine_learning.datasets.\n",
    "\n",
    "    Parameters:\n",
    "    - training_size (int): Size of the training sample.\n",
    "    - test_size (int): Size of the test sample.\n",
    "    - n_features (int): Number of features for each instance in the sample.\n",
    "    - gap (float): Defines how close the classes are from each other. \n",
    "                   The smaller the gap, the harder it will be to classify the samples.\n",
    "    - plot_data (bool): Whether to plot the generated data. Default is False.\n",
    "    - one_hot (bool): Whether to use one-hot encoding for the labels. Default is False.\n",
    "    - include_sample_total (bool): Whether to include the total number of samples in the return values. Default is True.\n",
    "    \n",
    "    Returns:\n",
    "    - train_features (numpy.ndarray): Feature matrix of the training set (training_size,n_features).\n",
    "    - train_labels (numpy.ndarray): Labels of the training set(training_size,).\n",
    "    - test_features (numpy.ndarray): Feature matrix of the test set (test_size,n_features).\n",
    "    - test_labels (numpy.ndarray): Labels of the test set (test_size,).\n",
    "    - adhoc_total (int): Total number of samples if include_sample_total is True, otherwise None.\n",
    "    \"\"\"\n",
    "    train_features, train_labels, test_features, test_labels, adhoc_total = ad_hoc_data(\n",
    "        training_size=training_size,\n",
    "        test_size=test_size,\n",
    "        n=n_features,\n",
    "        gap=gap,\n",
    "        plot_data=plot_data,\n",
    "        one_hot=one_hot,\n",
    "        include_sample_total=include_sample_total\n",
    "    )\n",
    "    return train_features, train_labels, test_features, test_labels, adhoc_total\n",
    "\n",
    "\n"
   ]
  },
  {
   "cell_type": "code",
   "execution_count": 4,
   "id": "563d863a",
   "metadata": {},
   "outputs": [],
   "source": [
    "# Example usage:\n",
    "train_features, train_labels, test_features, test_labels, adhoc_total = generate_adhoc_data(\n",
    "    training_size=50,\n",
    "    test_size=20,\n",
    "    n_features=3,\n",
    "    gap=0.25,\n",
    "    plot_data=False,\n",
    "    one_hot=False,\n",
    "    include_sample_total=True\n",
    ")"
   ]
  },
  {
   "cell_type": "code",
   "execution_count": 5,
   "id": "5af329ac",
   "metadata": {},
   "outputs": [
    {
     "data": {
      "text/plain": [
       "(100, 3)"
      ]
     },
     "execution_count": 5,
     "metadata": {},
     "output_type": "execute_result"
    }
   ],
   "source": [
    "train_features.shape"
   ]
  },
  {
   "cell_type": "code",
   "execution_count": 6,
   "id": "9c06750a",
   "metadata": {},
   "outputs": [
    {
     "data": {
      "text/plain": [
       "(100,)"
      ]
     },
     "execution_count": 6,
     "metadata": {},
     "output_type": "execute_result"
    }
   ],
   "source": [
    "train_labels.shape"
   ]
  },
  {
   "cell_type": "code",
   "execution_count": 7,
   "id": "5288d493",
   "metadata": {},
   "outputs": [
    {
     "data": {
      "text/plain": [
       "(40, 3)"
      ]
     },
     "execution_count": 7,
     "metadata": {},
     "output_type": "execute_result"
    }
   ],
   "source": [
    "test_features.shape"
   ]
  },
  {
   "cell_type": "code",
   "execution_count": 8,
   "id": "cb5b9ee9",
   "metadata": {},
   "outputs": [
    {
     "data": {
      "text/plain": [
       "(40,)"
      ]
     },
     "execution_count": 8,
     "metadata": {},
     "output_type": "execute_result"
    }
   ],
   "source": [
    "test_labels.shape"
   ]
  },
  {
   "cell_type": "markdown",
   "id": "6cb35372",
   "metadata": {},
   "source": [
    "### Kernel Methods for Machine Learning\n",
    "\n",
    "Kernel techniques are algorithms for pattern analysis that use kernel functions to operate in high-dimensional feature spaces. They are widely used in Support Vector Machines (SVMs), which are especially beneficial for classification jobs. SVMs seek to identify decision boundaries in high-dimensional spaces, and kernels aid in this process, particularly when the data is not linearly separated.\n",
    "\n",
    "The \"kernel trick\" transforms nonlinearly separable data distributions into linearly separable problems by implicitly transferring input data into higher-dimensional spaces. This idea applies beyond SVMs to unsupervised methods such as Spectral Clustering, in which data points are represented as nodes in a graph and grouped via graph partitioning.\n",
    "\n",
    "### Kernel Functions\n",
    "\n",
    "Mathematically, kernel functions follow:\n",
    "\n",
    "$k(x, y) = \\phi(x) \\cdot \\phi(y)$\n",
    "\n",
    "Where:\n",
    "- $k$ is the kernel function\n",
    "- $x, y$ are $n$-dimensional inputs\n",
    "- $\\phi$ maps from $n$-dimensional to $m$-dimensional space\n",
    "- $\\cdot$ denotes the inner product\n",
    "\n",
    "Matrix representation of the kernel function for finite data:\n",
    "\n",
    "$$\n",
    "K = \\begin{bmatrix}\n",
    "k(x_1, x_1) & \\cdots & k(x_1, x_n) \\\\\n",
    "\\vdots & \\ddots & \\vdots \\\\\n",
    "k(x_n, x_1) & \\cdots & k(x_n, x_n)\n",
    "\\end{bmatrix}\n",
    "$$\n",
    "\n",
    "### Quantum Kernels\n",
    "\n",
    "Quantum feature maps are used in quantum kernel machine learning to carry out the kernel trick. Quantum feature maps are used to translate classical feature vectors to Hilbert spaces and generate quantum kernels.Mathematically:\n",
    "\n",
    "$K_{ij} = |\\langle \\Phi(x_i) | \\Phi(x_j) \\rangle|^2$\n",
    "\n",
    "Where:\n",
    "- $K$ is the kernel matrix\n",
    "- $x_i, x_j$ are $n$-dimensional inputs\n",
    "- $\\Phi$ is the quantum feature map\n",
    "- $\\langle \\cdot | \\cdot \\rangle$ denotes the inner product of two quantum states\n",
    "\n",
    "Quantum kernels can be used in novel quantum kernel techniques like the QSVC class offered by qiskit-machine-learning, as well as existing techniques like Pegasos QSVC and Quantum Kernel Training. Quantum kernels can also be employed in classical kernel learning algorithms like SVMs or clustering algorithms.\n",
    "\n",
    "Additionally, it's worth mentioning that this equation represents the fidelity, and in quantum circuits we use different techniques to mesaure them such as the swap test and the computeUncompute method which will be described a in later section. The next section illustrates the feature map used in this notebook.\n"
   ]
  },
  {
   "attachments": {
    "image-2.png": {
     "image/png": "[encoded data removed]"
    }
   },
   "cell_type": "markdown",
   "id": "430f1023",
   "metadata": {},
   "source": [
    "## ZZFeatureMap Circuit\n",
    "\n",
    "### Description\n",
    "\n",
    "The `ZZFeatureMap` circuit is a second-order Pauli-Z evolution circuit used in quantum machine learning tasks. It is implemented in Qiskit as part of the circuit library and it is used as the feature map for constructing our quantum circuit.\n",
    "\n",
    "A ZZFeatureMap for a sample of 3 features is shown in the figure bellow:\n",
    "\n",
    "![image-2.png](attachment:image-2.png)\n",
    "\n",
    "The python syntax for the function is provided below:\n",
    "```python\n",
    "ZZFeatureMap(feature_dimension, reps=2, entanglement='full', data_map_func=None, parameter_prefix='x', insert_barriers=False, name='ZZFeatureMap')\n",
    "\n",
    "\n",
    "where : \n",
    "- **feature_dimension** (int): Number of features of the samples.\n",
    "- **reps** (int): The number of repeated circuits, with a minimum value of 1.\n",
    "- **entanglement** (str or list or callable): Specifies the entanglement method.\n",
    "- **data_map_func** (callable): A mapping function for data x.\n",
    "- **parameter_prefix** (str): The prefix used if default parameters are generated.\n",
    "- **insert_barriers** (bool): If True, barriers are inserted in between the evolution instructions and Hadamard layers.\n",
    "- **name** (str): The name of the ZZFeatureMap circuit."
   ]
  },
  {
   "cell_type": "markdown",
   "id": "fa4447ac",
   "metadata": {},
   "source": [
    "The example code bellow demonstrates using the ZZFeatureMap function and plots the detailed block diagram for a 5 feature sample"
   ]
  },
  {
   "cell_type": "code",
   "execution_count": 17,
   "id": "ef02cf15",
   "metadata": {},
   "outputs": [
    {
     "data": {
      "image/png": "[encoded data removed]",
      "text/plain": [
       "<Figure size 2210.55x953.167 with 1 Axes>"
      ]
     },
     "execution_count": 17,
     "metadata": {},
     "output_type": "execute_result"
    }
   ],
   "source": [
    "\n",
    "# Create a ZZFeatureMap circuit\n",
    "zz_map = ZZFeatureMap(5, reps=1)\n",
    "\n",
    "# Draw the circuit\n",
    "zz_map.decompose().draw(\"mpl\")"
   ]
  },
  {
   "cell_type": "markdown",
   "id": "8fd9d15d",
   "metadata": {},
   "source": [
    "In the upcoming section, we delve into the application of the Compute-Uncompute technique, a method employed for computing the fidelity between two quantum states. "
   ]
  },
  {
   "attachments": {
    "image.png": {
     "image/png": "[encoded data removed]"
    }
   },
   "cell_type": "markdown",
   "id": "dc44e104",
   "metadata": {},
   "source": [
    "## Compute-Uncompute Technique for Fidelity Calculation\n",
    "\n",
    "In quantum computing, the \"Compute-Uncompute\" technique is a method used to calculate the fidelity between two quantum states. Fidelity is a measure of how similar two quantum states are, with a fidelity of 1 indicating that the states are identical.\n",
    "\n",
    "The basic idea behind the Compute-Uncompute technique is to:\n",
    "\n",
    "1. **State Preparation**: Start by preparing the initial quantum state, let's call it $ |\\psi_0\\rangle $.\n",
    "2. **Compute**: Apply the quantum operations necessary to transform $ |\\psi_0\\rangle $ into the target state $ |\\psi_{\\text{target}}\\rangle $. This involves applying a sequence of quantum gates or circuits.\n",
    "3. **Uncompute**: After transforming the state, apply the reverse operations (also known as the \"inverse circuit\") to return to the original state $ |\\psi_0\\rangle $.\n",
    "4. **Measurement**: Measure the final state after the uncompute step. The probability of obtaining the original state $ |\\psi_0\\rangle $ indicates the fidelity between $ |\\psi_0\\rangle $ and $ |\\psi_{\\text{target}}\\rangle $.\n",
    "\n",
    "the image bellow demonstrates the steps of compute-Uncompute for a 5 feature sample which the feature map applied with a repeatition of two: \n",
    "![image.png](attachment:image.png)\n",
    "\n",
    "In practice, fidelity calculations using Compute-Uncompute often involves implementing the circuits on a quantum computer and running multiple experiments to collect statistics for fidelity estimation. In the following section we combine the mentioned information to build an Support Vector Classifier using zzFeaturemap circuit.\n",
    "\n",
    "\n"
   ]
  },
  {
   "cell_type": "markdown",
   "id": "a700f3cc",
   "metadata": {},
   "source": [
    "### Quantum SVC Model with Hyperparameter Optimization\n",
    "\n",
    "In this section the information mentioned before is utilized to build an Support Vector Classifier (SVC) using a Quantum Kernel. Optuna Libarary is used to perform grid search to find the best parameters for the SVC model and the quantum kernel used.\n",
    "\n",
    "The objective function bellow integrates several components to build and optimize a quantum-enhanced Support Vector Classifier (SVC) using Optuna for hyperparameter optimization.\n",
    "\n",
    "#### Function Overview\n",
    "The function combines the following steps:\n",
    "\n",
    "1. **Sample Encoding**: Utilizes `zzFeaturemap` to encode samples.\n",
    "2. **Fidelity Calculation**: Performs compute-uncompute to calculate fidelity between two states.\n",
    "3. **Adhoc Kernel Construction**: Constructs an adhoc kernel using compute-uncompute for fidelity and zzFeaturemap for feature mapping.\n",
    "4. **SVC Model Creation**: Utilizes the constructed kernel with a Support Vector Classifier (SVC).\n",
    "5. **Accuracy Calculation**: Computes the accuracy of the SVC model using cross-validation.\n",
    "6. **Hyperparameter Optimization**: Employs the Optuna library to optimize parameters for both the Quantum kernel and the SVC within the defined search space.\n",
    "\n",
    "#### Grid Search Parameters\n",
    "- **Number of Repetitions**: Determines the number of repetitions of the quantum circuit.\n",
    "- **Regularization Parameter for SVC (C)**: Controls the regularization strength for the SVC.\n",
    "- **Type of Entanglement**: Specifies the type of entanglement in the quantum feature map (e.g., \"full\" or \"linear\").\n",
    "- **Number of Measurements**: Determines the number of measurements in the quantum circuit, influencing computation accuracy.\n",
    "\n",
    "\n",
    "This comprehensive function streamlines the process of building and optimizing a quantum-enhanced SVC model, ensuring effective exploration of the hyperparameter space for optimal performance.\n"
   ]
  },
  {
   "cell_type": "code",
   "execution_count": 19,
   "id": "08d78e01",
   "metadata": {},
   "outputs": [],
   "source": [
    "def objective(trial): \n",
    "    \"\"\"\n",
    "    Objective function for hyperparameter optimization of a quantum-enhanced Support Vector Classifier (SVC).\n",
    "\n",
    "    Parameters:\n",
    "    - trial (optuna.Trial): A single trial containing the current hyperparameters to evaluate.\n",
    "\n",
    "    Returns:\n",
    "    - float: Mean accuracy of the SVC model obtained through cross-validation.\n",
    "    \"\"\"\n",
    "    # Grid search parameters\n",
    "    rep = trial.suggest_int(\"rep\", 1, 5)  # Number of repetitions for the quantum circuit\n",
    "    c = trial.suggest_float(\"C\", 0.1, 1000)  # Regularization parameter for SVC\n",
    "    entangle = trial.suggest_categorical(\"entanglement\", [\"full\", \"linear\"])  # Type of entanglement in the quantum feature map\n",
    "    shots = trial.suggest_int(\"shots\", 100, 10000)  # Number of measurements in the quantum circuit\n",
    "\n",
    "    # Number of qubits used, equal to the number of features of each sample\n",
    "    num_qubits = train_features.shape[1]\n",
    "    \n",
    "    # Quantum feature map encoding strategy\n",
    "    feature_map = ZZFeatureMap(feature_dimension=num_qubits, reps=rep, entanglement=entangle)\n",
    "\n",
    "    # Sampler for executing quantum circuits\n",
    "    sampler = Sampler(options={\"shots\": shots})\n",
    "\n",
    "    # Method for computing the fidelity between two quantum states\n",
    "    fidelity = ComputeUncompute(sampler=sampler)\n",
    "\n",
    "    # Creating a kernel object using the fidelity computation method and the encoding strategy\n",
    "    adhoc_kernel = FidelityQuantumKernel(fidelity=fidelity, feature_map=feature_map)\n",
    "\n",
    "    # Evaluating the Gram matrix using the kernel object\n",
    "    gram_train = adhoc_kernel.evaluate(x_vec=train_features, y_vec=train_features)\n",
    "\n",
    "    # Creating an SVC classifier object\n",
    "    classifier_obj = SVC(kernel=\"precomputed\", shrinking=True, C=c, random_state=seed)\n",
    "\n",
    "    # Applying cross-validation using the SVC model with the generated Gram matrix\n",
    "    score = model_selection.cross_val_score(classifier_obj, gram_train, train_labels, n_jobs=10, cv=5)\n",
    "    \n",
    "    # Computing the mean accuracy obtained from cross-validation\n",
    "    accuracy = score.mean()\n",
    "    \n",
    "    return accuracy\n"
   ]
  },
  {
   "cell_type": "markdown",
   "id": "f1f9491f",
   "metadata": {},
   "source": [
    "\n",
    "This code bellow initializes a hyperparameter optimization study named 'QSVM' using Optuna, setting the direction of optimization to maximize the objective function which is the accuracy of the SVC as it the return of the function. Employing the TPE sampler internally, it efficiently explores the hyperparameter space to identify promising regions. The optimization process is initiated with a timeout of 10*60 which is equal to 10 minutes after which the process will return the best parameters found."
   ]
  },
  {
   "cell_type": "code",
   "execution_count": 20,
   "id": "d365a25f",
   "metadata": {},
   "outputs": [
    {
     "name": "stderr",
     "output_type": "stream",
     "text": [
      "[I 2024-05-09 22:32:17,560] A new study created in memory with name: QSVM\n",
      "[I 2024-05-09 22:32:42,402] Trial 0 finished with value: 0.7300000000000001 and parameters: {'rep': 3, 'C': 891.2800949594473, 'entanglement': 'full', 'shots': 8491}. Best is trial 0 with value: 0.7300000000000001.\n",
      "[I 2024-05-09 22:33:02,430] Trial 1 finished with value: 0.95 and parameters: {'rep': 2, 'C': 401.0690622326496, 'entanglement': 'full', 'shots': 5543}. Best is trial 1 with value: 0.95.\n",
      "[I 2024-05-09 22:33:23,034] Trial 2 finished with value: 0.6 and parameters: {'rep': 3, 'C': 802.6446035994313, 'entanglement': 'linear', 'shots': 8083}. Best is trial 1 with value: 0.95.\n",
      "[I 2024-05-09 22:33:39,763] Trial 3 finished with value: 0.95 and parameters: {'rep': 2, 'C': 620.6602747765121, 'entanglement': 'full', 'shots': 7486}. Best is trial 1 with value: 0.95.\n",
      "[I 2024-05-09 22:34:03,097] Trial 4 finished with value: 0.74 and parameters: {'rep': 3, 'C': 621.1698374143243, 'entanglement': 'full', 'shots': 1596}. Best is trial 1 with value: 0.95.\n",
      "[I 2024-05-09 22:34:17,346] Trial 5 finished with value: 0.6399999999999999 and parameters: {'rep': 2, 'C': 834.2733174603932, 'entanglement': 'linear', 'shots': 9679}. Best is trial 1 with value: 0.95.\n",
      "[I 2024-05-09 22:34:37,289] Trial 6 finished with value: 0.6 and parameters: {'rep': 3, 'C': 45.81426547768443, 'entanglement': 'linear', 'shots': 2443}. Best is trial 1 with value: 0.95.\n",
      "[I 2024-05-09 22:34:51,470] Trial 7 finished with value: 0.6399999999999999 and parameters: {'rep': 2, 'C': 341.0890302602585, 'entanglement': 'linear', 'shots': 6517}. Best is trial 1 with value: 0.95.\n",
      "[I 2024-05-09 22:35:14,428] Trial 8 finished with value: 0.75 and parameters: {'rep': 3, 'C': 157.0400669663484, 'entanglement': 'full', 'shots': 9058}. Best is trial 1 with value: 0.95.\n",
      "[I 2024-05-09 22:35:37,265] Trial 9 finished with value: 0.7699999999999999 and parameters: {'rep': 3, 'C': 489.000350432732, 'entanglement': 'full', 'shots': 3851}. Best is trial 1 with value: 0.95.\n",
      "[I 2024-05-09 22:36:14,680] Trial 10 finished with value: 0.6000000000000001 and parameters: {'rep': 5, 'C': 284.7237604803955, 'entanglement': 'full', 'shots': 5271}. Best is trial 1 with value: 0.95.\n",
      "[I 2024-05-09 22:36:25,705] Trial 11 finished with value: 0.6799999999999999 and parameters: {'rep': 1, 'C': 592.2748963548312, 'entanglement': 'full', 'shots': 6389}. Best is trial 1 with value: 0.95.\n",
      "[I 2024-05-09 22:36:36,048] Trial 12 finished with value: 0.67 and parameters: {'rep': 1, 'C': 428.5768079803429, 'entanglement': 'full', 'shots': 6914}. Best is trial 1 with value: 0.95.\n",
      "[I 2024-05-09 22:36:52,663] Trial 13 finished with value: 0.9400000000000001 and parameters: {'rep': 2, 'C': 669.4530963521938, 'entanglement': 'full', 'shots': 3868}. Best is trial 1 with value: 0.95.\n",
      "[I 2024-05-09 22:37:28,494] Trial 14 finished with value: 0.61 and parameters: {'rep': 5, 'C': 454.1501143521004, 'entanglement': 'full', 'shots': 5035}. Best is trial 1 with value: 0.95.\n",
      "[I 2024-05-09 22:37:59,583] Trial 15 finished with value: 0.5900000000000001 and parameters: {'rep': 4, 'C': 958.5277628399521, 'entanglement': 'full', 'shots': 7756}. Best is trial 1 with value: 0.95.\n",
      "[I 2024-05-09 22:38:17,972] Trial 16 finished with value: 0.9400000000000001 and parameters: {'rep': 2, 'C': 719.8955159216137, 'entanglement': 'full', 'shots': 5216}. Best is trial 1 with value: 0.95.\n",
      "[I 2024-05-09 22:38:28,283] Trial 17 finished with value: 0.6799999999999999 and parameters: {'rep': 1, 'C': 562.1283121787773, 'entanglement': 'full', 'shots': 196}. Best is trial 1 with value: 0.95.\n",
      "[I 2024-05-09 22:38:52,638] Trial 18 finished with value: 0.5200000000000001 and parameters: {'rep': 4, 'C': 706.3100533563377, 'entanglement': 'linear', 'shots': 7470}. Best is trial 1 with value: 0.95.\n",
      "[I 2024-05-09 22:39:09,508] Trial 19 finished with value: 0.9400000000000001 and parameters: {'rep': 2, 'C': 349.7517950830505, 'entanglement': 'full', 'shots': 4167}. Best is trial 1 with value: 0.95.\n",
      "[I 2024-05-09 22:39:39,715] Trial 20 finished with value: 0.5900000000000001 and parameters: {'rep': 4, 'C': 539.515377638917, 'entanglement': 'full', 'shots': 5899}. Best is trial 1 with value: 0.95.\n",
      "[I 2024-05-09 22:39:57,584] Trial 21 finished with value: 0.95 and parameters: {'rep': 2, 'C': 662.0403313075763, 'entanglement': 'full', 'shots': 3584}. Best is trial 1 with value: 0.95.\n",
      "[I 2024-05-09 22:40:14,418] Trial 22 finished with value: 0.9400000000000001 and parameters: {'rep': 2, 'C': 748.7784399167438, 'entanglement': 'full', 'shots': 2857}. Best is trial 1 with value: 0.95.\n",
      "[I 2024-05-09 22:40:24,435] Trial 23 finished with value: 0.68 and parameters: {'rep': 1, 'C': 649.2250950220223, 'entanglement': 'full', 'shots': 4513}. Best is trial 1 with value: 0.95.\n",
      "[I 2024-05-09 22:40:41,949] Trial 24 finished with value: 0.95 and parameters: {'rep': 2, 'C': 526.4970119064511, 'entanglement': 'full', 'shots': 3129}. Best is trial 1 with value: 0.95.\n",
      "[I 2024-05-09 22:40:52,666] Trial 25 finished with value: 0.72 and parameters: {'rep': 1, 'C': 611.1017272489477, 'entanglement': 'full', 'shots': 1844}. Best is trial 1 with value: 0.95.\n",
      "[I 2024-05-09 22:41:07,236] Trial 26 finished with value: 0.65 and parameters: {'rep': 2, 'C': 756.634626168036, 'entanglement': 'linear', 'shots': 5814}. Best is trial 1 with value: 0.95.\n",
      "[I 2024-05-09 22:41:24,658] Trial 27 finished with value: 0.9400000000000001 and parameters: {'rep': 2, 'C': 481.73455020407596, 'entanglement': 'full', 'shots': 7104}. Best is trial 1 with value: 0.95.\n",
      "[I 2024-05-09 22:41:35,103] Trial 28 finished with value: 0.7 and parameters: {'rep': 1, 'C': 650.546550952243, 'entanglement': 'full', 'shots': 8757}. Best is trial 1 with value: 0.95.\n",
      "[I 2024-05-09 22:41:58,826] Trial 29 finished with value: 0.74 and parameters: {'rep': 3, 'C': 882.9409633836806, 'entanglement': 'full', 'shots': 9956}. Best is trial 1 with value: 0.95.\n",
      "[I 2024-05-09 22:42:15,866] Trial 30 finished with value: 0.93 and parameters: {'rep': 2, 'C': 569.9637564328613, 'entanglement': 'full', 'shots': 5868}. Best is trial 1 with value: 0.95.\n",
      "[I 2024-05-09 22:42:33,069] Trial 31 finished with value: 0.95 and parameters: {'rep': 2, 'C': 553.115398457113, 'entanglement': 'full', 'shots': 3360}. Best is trial 1 with value: 0.95.\n"
     ]
    }
   ],
   "source": [
    "study = optuna.create_study(direction=\"maximize\",study_name='QSVM') # internally it uses the TPE samplerhttps://optuna.readthedocs.io/en/stable/reference/generated/optuna.samplers.TPESampler.html\n",
    "study.optimize(objective, timeout= 10 * 60) # running this for more than 10 minutes might get better results with increasing the search space of course"
   ]
  },
  {
   "cell_type": "markdown",
   "id": "bf61236e",
   "metadata": {},
   "source": [
    "\n",
    "This code bellow prints out the best trial, best value, and best parameters found during the hyperparameter optimization study. It shows the trial details that achieved the best performance (study.best_trial), the corresponding best performance value (study.best_value), and the set of hyperparameters (study.best_params) that resulted in the highest performance according to the objective function. "
   ]
  },
  {
   "cell_type": "code",
   "execution_count": 21,
   "id": "25d696ef",
   "metadata": {},
   "outputs": [
    {
     "name": "stdout",
     "output_type": "stream",
     "text": [
      "The best trial is : \n",
      "FrozenTrial(number=1, state=1, values=[0.95], datetime_start=datetime.datetime(2024, 5, 9, 22, 32, 42, 403473), datetime_complete=datetime.datetime(2024, 5, 9, 22, 33, 2, 429093), params={'rep': 2, 'C': 401.0690622326496, 'entanglement': 'full', 'shots': 5543}, user_attrs={}, system_attrs={}, intermediate_values={}, distributions={'rep': IntDistribution(high=5, log=False, low=1, step=1), 'C': FloatDistribution(high=1000.0, log=False, low=0.1, step=None), 'entanglement': CategoricalDistribution(choices=('full', 'linear')), 'shots': IntDistribution(high=10000, log=False, low=100, step=1)}, trial_id=1, value=None)\n",
      "\n",
      "The best value is : \n",
      "0.95\n",
      "\n",
      "The best parameters are : \n",
      "{'rep': 2, 'C': 401.0690622326496, 'entanglement': 'full', 'shots': 5543}\n"
     ]
    }
   ],
   "source": [
    "print(f\"The best trial is : \\n{study.best_trial}\")\n",
    "print()\n",
    "print(f\"The best value is : \\n{study.best_value}\")\n",
    "print()\n",
    "print(f\"The best parameters are : \\n{study.best_params}\")\n"
   ]
  },
  {
   "cell_type": "markdown",
   "id": "d5fefd38",
   "metadata": {},
   "source": [
    "\n",
    "With the best parameters obtained from the optimization, we can now reapply them to our quantum kernel code and SVC model to evaluate the performance of our model. By integrating these optimal parameters, we ensure that our model operates at its highest potential within the given search space. "
   ]
  },
  {
   "cell_type": "code",
   "execution_count": 22,
   "id": "407e9b8e",
   "metadata": {},
   "outputs": [
    {
     "name": "stdout",
     "output_type": "stream",
     "text": [
      "training accurcy 1.0\n",
      "test accurcy 1.0\n"
     ]
    }
   ],
   "source": [
    "rep = study.best_params['rep']\n",
    "num_qubits = train_features.shape[1]\n",
    "c = study.best_params['C']\n",
    "entangle = study.best_params['entanglement']\n",
    "shots = study.best_params['shots']\n",
    "\n",
    "feature_map = ZZFeatureMap(feature_dimension=num_qubits,\n",
    "                                 reps=rep, entanglement=entangle)\n",
    "\n",
    "sampler = Sampler(options={\"shots\":shots})\n",
    "\n",
    "fidelity = ComputeUncompute(sampler=sampler)\n",
    "\n",
    "adhoc_kernel = FidelityQuantumKernel(fidelity=fidelity, feature_map=feature_map)\n",
    "\n",
    "gram_train = adhoc_kernel.evaluate(x_vec=train_features, y_vec=train_features)\n",
    "\n",
    "gram_test = adhoc_kernel.evaluate(x_vec=test_features, y_vec=train_features)\n",
    "\n",
    "classifier_obj = SVC(kernel=\"precomputed\", shrinking=True, C=c, random_state=seed)\n",
    "classifier_obj.fit(gram_train, train_labels)\n",
    "\n",
    "print(\"training accurcy\", classifier_obj.score(gram_train,train_labels))\n",
    "print(\"test accurcy\", classifier_obj.score(gram_test, test_labels))\n"
   ]
  },
  {
   "cell_type": "markdown",
   "id": "95b11f17",
   "metadata": {},
   "source": [
    "\n",
    "This code generates a visualization of the optimization history during the hyperparameter optimization study conducted using Optuna. Specifically, optuna.visualization.plot_optimization_history(study) produces a plot showing how the objective value (i.e., the accuracy) changes over the course of the optimization process."
   ]
  },
  {
   "cell_type": "code",
   "execution_count": 23,
   "id": "411c5245",
   "metadata": {},
   "outputs": [
    {
     "data": {
      "application/vnd.plotly.v1+json": {
       "config": {
        "plotlyServerURL": "https://plot.ly"
       },
       "data": [
        {
         "mode": "markers",
         "name": "Objective Value",
         "type": "scatter",
         "x": [
          0,
          1,
          2,
          3,
          4,
          5,
          6,
          7,
          8,
          9,
          10,
          11,
          12,
          13,
          14,
          15,
          16,
          17,
          18,
          19,
          20,
          21,
          22,
          23,
          24,
          25,
          26,
          27,
          28,
          29,
          30,
          31
         ],
         "y": [
          0.7300000000000001,
          0.95,
          0.6,
          0.95,
          0.74,
          0.6399999999999999,
          0.6,
          0.6399999999999999,
          0.75,
          0.7699999999999999,
          0.6000000000000001,
          0.6799999999999999,
          0.67,
          0.9400000000000001,
          0.61,
          0.5900000000000001,
          0.9400000000000001,
          0.6799999999999999,
          0.5200000000000001,
          0.9400000000000001,
          0.5900000000000001,
          0.95,
          0.9400000000000001,
          0.68,
          0.95,
          0.72,
          0.65,
          0.9400000000000001,
          0.7,
          0.74,
          0.93,
          0.95
         ]
        },
        {
         "mode": "lines",
         "name": "Best Value",
         "type": "scatter",
         "x": [
          0,
          1,
          2,
          3,
          4,
          5,
          6,
          7,
          8,
          9,
          10,
          11,
          12,
          13,
          14,
          15,
          16,
          17,
          18,
          19,
          20,
          21,
          22,
          23,
          24,
          25,
          26,
          27,
          28,
          29,
          30,
          31
         ],
         "y": [
          0.7300000000000001,
          0.95,
          0.95,
          0.95,
          0.95,
          0.95,
          0.95,
          0.95,
          0.95,
          0.95,
          0.95,
          0.95,
          0.95,
          0.95,
          0.95,
          0.95,
          0.95,
          0.95,
          0.95,
          0.95,
          0.95,
          0.95,
          0.95,
          0.95,
          0.95,
          0.95,
          0.95,
          0.95,
          0.95,
          0.95,
          0.95,
          0.95
         ]
        },
        {
         "marker": {
          "color": "#cccccc"
         },
         "mode": "markers",
         "name": "Infeasible Trial",
         "showlegend": false,
         "type": "scatter",
         "x": [],
         "y": []
        }
       ],
       "layout": {
        "template": {
         "data": {
          "bar": [
           {
            "error_x": {
             "color": "#2a3f5f"
            },
            "error_y": {
             "color": "#2a3f5f"
            },
            "marker": {
             "line": {
              "color": "#E5ECF6",
              "width": 0.5
             },
             "pattern": {
              "fillmode": "overlay",
              "size": 10,
              "solidity": 0.2
             }
            },
            "type": "bar"
           }
          ],
          "barpolar": [
           {
            "marker": {
             "line": {
              "color": "#E5ECF6",
              "width": 0.5
             },
             "pattern": {
              "fillmode": "overlay",
              "size": 10,
              "solidity": 0.2
             }
            },
            "type": "barpolar"
           }
          ],
          "carpet": [
           {
            "aaxis": {
             "endlinecolor": "#2a3f5f",
             "gridcolor": "white",
             "linecolor": "white",
             "minorgridcolor": "white",
             "startlinecolor": "#2a3f5f"
            },
            "baxis": {
             "endlinecolor": "#2a3f5f",
             "gridcolor": "white",
             "linecolor": "white",
             "minorgridcolor": "white",
             "startlinecolor": "#2a3f5f"
            },
            "type": "carpet"
           }
          ],
          "choropleth": [
           {
            "colorbar": {
             "outlinewidth": 0,
             "ticks": ""
            },
            "type": "choropleth"
           }
          ],
          "contour": [
           {
            "colorbar": {
             "outlinewidth": 0,
             "ticks": ""
            },
            "colorscale": [
             [
              0,
              "#0d0887"
             ],
             [
              0.1111111111111111,
              "#46039f"
             ],
             [
              0.2222222222222222,
              "#7201a8"
             ],
             [
              0.3333333333333333,
              "#9c179e"
             ],
             [
              0.4444444444444444,
              "#bd3786"
             ],
             [
              0.5555555555555556,
              "#d8576b"
             ],
             [
              0.6666666666666666,
              "#ed7953"
             ],
             [
              0.7777777777777778,
              "#fb9f3a"
             ],
             [
              0.8888888888888888,
              "#fdca26"
             ],
             [
              1,
              "#f0f921"
             ]
            ],
            "type": "contour"
           }
          ],
          "contourcarpet": [
           {
            "colorbar": {
             "outlinewidth": 0,
             "ticks": ""
            },
            "type": "contourcarpet"
           }
          ],
          "heatmap": [
           {
            "colorbar": {
             "outlinewidth": 0,
             "ticks": ""
            },
            "colorscale": [
             [
              0,
              "#0d0887"
             ],
             [
              0.1111111111111111,
              "#46039f"
             ],
             [
              0.2222222222222222,
              "#7201a8"
             ],
             [
              0.3333333333333333,
              "#9c179e"
             ],
             [
              0.4444444444444444,
              "#bd3786"
             ],
             [
              0.5555555555555556,
              "#d8576b"
             ],
             [
              0.6666666666666666,
              "#ed7953"
             ],
             [
              0.7777777777777778,
              "#fb9f3a"
             ],
             [
              0.8888888888888888,
              "#fdca26"
             ],
             [
              1,
              "#f0f921"
             ]
            ],
            "type": "heatmap"
           }
          ],
          "heatmapgl": [
           {
            "colorbar": {
             "outlinewidth": 0,
             "ticks": ""
            },
            "colorscale": [
             [
              0,
              "#0d0887"
             ],
             [
              0.1111111111111111,
              "#46039f"
             ],
             [
              0.2222222222222222,
              "#7201a8"
             ],
             [
              0.3333333333333333,
              "#9c179e"
             ],
             [
              0.4444444444444444,
              "#bd3786"
             ],
             [
              0.5555555555555556,
              "#d8576b"
             ],
             [
              0.6666666666666666,
              "#ed7953"
             ],
             [
              0.7777777777777778,
              "#fb9f3a"
             ],
             [
              0.8888888888888888,
              "#fdca26"
             ],
             [
              1,
              "#f0f921"
             ]
            ],
            "type": "heatmapgl"
           }
          ],
          "histogram": [
           {
            "marker": {
             "pattern": {
              "fillmode": "overlay",
              "size": 10,
              "solidity": 0.2
             }
            },
            "type": "histogram"
           }
          ],
          "histogram2d": [
           {
            "colorbar": {
             "outlinewidth": 0,
             "ticks": ""
            },
            "colorscale": [
             [
              0,
              "#0d0887"
             ],
             [
              0.1111111111111111,
              "#46039f"
             ],
             [
              0.2222222222222222,
              "#7201a8"
             ],
             [
              0.3333333333333333,
              "#9c179e"
             ],
             [
              0.4444444444444444,
              "#bd3786"
             ],
             [
              0.5555555555555556,
              "#d8576b"
             ],
             [
              0.6666666666666666,
              "#ed7953"
             ],
             [
              0.7777777777777778,
              "#fb9f3a"
             ],
             [
              0.8888888888888888,
              "#fdca26"
             ],
             [
              1,
              "#f0f921"
             ]
            ],
            "type": "histogram2d"
           }
          ],
          "histogram2dcontour": [
           {
            "colorbar": {
             "outlinewidth": 0,
             "ticks": ""
            },
            "colorscale": [
             [
              0,
              "#0d0887"
             ],
             [
              0.1111111111111111,
              "#46039f"
             ],
             [
              0.2222222222222222,
              "#7201a8"
             ],
             [
              0.3333333333333333,
              "#9c179e"
             ],
             [
              0.4444444444444444,
              "#bd3786"
             ],
             [
              0.5555555555555556,
              "#d8576b"
             ],
             [
              0.6666666666666666,
              "#ed7953"
             ],
             [
              0.7777777777777778,
              "#fb9f3a"
             ],
             [
              0.8888888888888888,
              "#fdca26"
             ],
             [
              1,
              "#f0f921"
             ]
            ],
            "type": "histogram2dcontour"
           }
          ],
          "mesh3d": [
           {
            "colorbar": {
             "outlinewidth": 0,
             "ticks": ""
            },
            "type": "mesh3d"
           }
          ],
          "parcoords": [
           {
            "line": {
             "colorbar": {
              "outlinewidth": 0,
              "ticks": ""
             }
            },
            "type": "parcoords"
           }
          ],
          "pie": [
           {
            "automargin": true,
            "type": "pie"
           }
          ],
          "scatter": [
           {
            "fillpattern": {
             "fillmode": "overlay",
             "size": 10,
             "solidity": 0.2
            },
            "type": "scatter"
           }
          ],
          "scatter3d": [
           {
            "line": {
             "colorbar": {
              "outlinewidth": 0,
              "ticks": ""
             }
            },
            "marker": {
             "colorbar": {
              "outlinewidth": 0,
              "ticks": ""
             }
            },
            "type": "scatter3d"
           }
          ],
          "scattercarpet": [
           {
            "marker": {
             "colorbar": {
              "outlinewidth": 0,
              "ticks": ""
             }
            },
            "type": "scattercarpet"
           }
          ],
          "scattergeo": [
           {
            "marker": {
             "colorbar": {
              "outlinewidth": 0,
              "ticks": ""
             }
            },
            "type": "scattergeo"
           }
          ],
          "scattergl": [
           {
            "marker": {
             "colorbar": {
              "outlinewidth": 0,
              "ticks": ""
             }
            },
            "type": "scattergl"
           }
          ],
          "scattermapbox": [
           {
            "marker": {
             "colorbar": {
              "outlinewidth": 0,
              "ticks": ""
             }
            },
            "type": "scattermapbox"
           }
          ],
          "scatterpolar": [
           {
            "marker": {
             "colorbar": {
              "outlinewidth": 0,
              "ticks": ""
             }
            },
            "type": "scatterpolar"
           }
          ],
          "scatterpolargl": [
           {
            "marker": {
             "colorbar": {
              "outlinewidth": 0,
              "ticks": ""
             }
            },
            "type": "scatterpolargl"
           }
          ],
          "scatterternary": [
           {
            "marker": {
             "colorbar": {
              "outlinewidth": 0,
              "ticks": ""
             }
            },
            "type": "scatterternary"
           }
          ],
          "surface": [
           {
            "colorbar": {
             "outlinewidth": 0,
             "ticks": ""
            },
            "colorscale": [
             [
              0,
              "#0d0887"
             ],
             [
              0.1111111111111111,
              "#46039f"
             ],
             [
              0.2222222222222222,
              "#7201a8"
             ],
             [
              0.3333333333333333,
              "#9c179e"
             ],
             [
              0.4444444444444444,
              "#bd3786"
             ],
             [
              0.5555555555555556,
              "#d8576b"
             ],
             [
              0.6666666666666666,
              "#ed7953"
             ],
             [
              0.7777777777777778,
              "#fb9f3a"
             ],
             [
              0.8888888888888888,
              "#fdca26"
             ],
             [
              1,
              "#f0f921"
             ]
            ],
            "type": "surface"
           }
          ],
          "table": [
           {
            "cells": {
             "fill": {
              "color": "#EBF0F8"
             },
             "line": {
              "color": "white"
             }
            },
            "header": {
             "fill": {
              "color": "#C8D4E3"
             },
             "line": {
              "color": "white"
             }
            },
            "type": "table"
           }
          ]
         },
         "layout": {
          "annotationdefaults": {
           "arrowcolor": "#2a3f5f",
           "arrowhead": 0,
           "arrowwidth": 1
          },
          "autotypenumbers": "strict",
          "coloraxis": {
           "colorbar": {
            "outlinewidth": 0,
            "ticks": ""
           }
          },
          "colorscale": {
           "diverging": [
            [
             0,
             "#8e0152"
            ],
            [
             0.1,
             "#c51b7d"
            ],
            [
             0.2,
             "#de77ae"
            ],
            [
             0.3,
             "#f1b6da"
            ],
            [
             0.4,
             "#fde0ef"
            ],
            [
             0.5,
             "#f7f7f7"
            ],
            [
             0.6,
             "#e6f5d0"
            ],
            [
             0.7,
             "#b8e186"
            ],
            [
             0.8,
             "#7fbc41"
            ],
            [
             0.9,
             "#4d9221"
            ],
            [
             1,
             "#276419"
            ]
           ],
           "sequential": [
            [
             0,
             "#0d0887"
            ],
            [
             0.1111111111111111,
             "#46039f"
            ],
            [
             0.2222222222222222,
             "#7201a8"
            ],
            [
             0.3333333333333333,
             "#9c179e"
            ],
            [
             0.4444444444444444,
             "#bd3786"
            ],
            [
             0.5555555555555556,
             "#d8576b"
            ],
            [
             0.6666666666666666,
             "#ed7953"
            ],
            [
             0.7777777777777778,
             "#fb9f3a"
            ],
            [
             0.8888888888888888,
             "#fdca26"
            ],
            [
             1,
             "#f0f921"
            ]
           ],
           "sequentialminus": [
            [
             0,
             "#0d0887"
            ],
            [
             0.1111111111111111,
             "#46039f"
            ],
            [
             0.2222222222222222,
             "#7201a8"
            ],
            [
             0.3333333333333333,
             "#9c179e"
            ],
            [
             0.4444444444444444,
             "#bd3786"
            ],
            [
             0.5555555555555556,
             "#d8576b"
            ],
            [
             0.6666666666666666,
             "#ed7953"
            ],
            [
             0.7777777777777778,
             "#fb9f3a"
            ],
            [
             0.8888888888888888,
             "#fdca26"
            ],
            [
             1,
             "#f0f921"
            ]
           ]
          },
          "colorway": [
           "#636efa",
           "#EF553B",
           "#00cc96",
           "#ab63fa",
           "#FFA15A",
           "#19d3f3",
           "#FF6692",
           "#B6E880",
           "#FF97FF",
           "#FECB52"
          ],
          "font": {
           "color": "#2a3f5f"
          },
          "geo": {
           "bgcolor": "white",
           "lakecolor": "white",
           "landcolor": "#E5ECF6",
           "showlakes": true,
           "showland": true,
           "subunitcolor": "white"
          },
          "hoverlabel": {
           "align": "left"
          },
          "hovermode": "closest",
          "mapbox": {
           "style": "light"
          },
          "paper_bgcolor": "white",
          "plot_bgcolor": "#E5ECF6",
          "polar": {
           "angularaxis": {
            "gridcolor": "white",
            "linecolor": "white",
            "ticks": ""
           },
           "bgcolor": "#E5ECF6",
           "radialaxis": {
            "gridcolor": "white",
            "linecolor": "white",
            "ticks": ""
           }
          },
          "scene": {
           "xaxis": {
            "backgroundcolor": "#E5ECF6",
            "gridcolor": "white",
            "gridwidth": 2,
            "linecolor": "white",
            "showbackground": true,
            "ticks": "",
            "zerolinecolor": "white"
           },
           "yaxis": {
            "backgroundcolor": "#E5ECF6",
            "gridcolor": "white",
            "gridwidth": 2,
            "linecolor": "white",
            "showbackground": true,
            "ticks": "",
            "zerolinecolor": "white"
           },
           "zaxis": {
            "backgroundcolor": "#E5ECF6",
            "gridcolor": "white",
            "gridwidth": 2,
            "linecolor": "white",
            "showbackground": true,
            "ticks": "",
            "zerolinecolor": "white"
           }
          },
          "shapedefaults": {
           "line": {
            "color": "#2a3f5f"
           }
          },
          "ternary": {
           "aaxis": {
            "gridcolor": "white",
            "linecolor": "white",
            "ticks": ""
           },
           "baxis": {
            "gridcolor": "white",
            "linecolor": "white",
            "ticks": ""
           },
           "bgcolor": "#E5ECF6",
           "caxis": {
            "gridcolor": "white",
            "linecolor": "white",
            "ticks": ""
           }
          },
          "title": {
           "x": 0.05
          },
          "xaxis": {
           "automargin": true,
           "gridcolor": "white",
           "linecolor": "white",
           "ticks": "",
           "title": {
            "standoff": 15
           },
           "zerolinecolor": "white",
           "zerolinewidth": 2
          },
          "yaxis": {
           "automargin": true,
           "gridcolor": "white",
           "linecolor": "white",
           "ticks": "",
           "title": {
            "standoff": 15
           },
           "zerolinecolor": "white",
           "zerolinewidth": 2
          }
         }
        },
        "title": {
         "text": "Optimization History Plot"
        },
        "xaxis": {
         "title": {
          "text": "Trial"
         }
        },
        "yaxis": {
         "title": {
          "text": "Objective Value"
         }
        }
       }
      }
     },
     "metadata": {},
     "output_type": "display_data"
    }
   ],
   "source": [
    "fig = optuna.visualization.plot_optimization_history(study)\n",
    "fig.show()"
   ]
  },
  {
   "cell_type": "markdown",
   "id": "d351a9c3",
   "metadata": {},
   "source": [
    "\n",
    "A parallel coordinate plot, a visualization tool for analyzing high-dimensional hyperparameter optimization outcomes, is produced by the plot_parallel_coordinate() function. The plot shows how various hyperparameters relate to the performance metric, or objective value, over the course of several trials. Every line in the figure denotes a trial, and the values of the related hyperparameters are shown by the line's position on the hyperparameter axes."
   ]
  },
  {
   "cell_type": "code",
   "execution_count": 22,
   "id": "02181560",
   "metadata": {},
   "outputs": [
    {
     "data": {
      "application/vnd.plotly.v1+json": {
       "config": {
        "plotlyServerURL": "https://plot.ly"
       },
       "data": [
        {
         "dimensions": [
          {
           "label": "Objective Value",
           "range": [
            0.48,
            0.95
           ],
           "values": [
            0.6300000000000001,
            0.68,
            0.49000000000000005,
            0.7300000000000001,
            0.52,
            0.75,
            0.49000000000000005,
            0.5800000000000001,
            0.48,
            0.55,
            0.6799999999999999,
            0.74,
            0.9400000000000001,
            0.9299999999999999,
            0.9400000000000001,
            0.9400000000000001,
            0.95,
            0.74,
            0.95,
            0.54,
            0.69,
            0.9400000000000001,
            0.9400000000000001,
            0.9400000000000001,
            0.69,
            0.74,
            0.9400000000000001,
            0.7299999999999999,
            0.95,
            0.68,
            0.95,
            0.95,
            0.95,
            0.95,
            0.74,
            0.6799999999999999,
            0.6299999999999999,
            0.7699999999999999,
            0.5900000000000001,
            0.7,
            0.5900000000000001,
            0.9400000000000001,
            0.95,
            0.6799999999999999,
            0.72,
            0.95,
            0.61,
            0.6399999999999999,
            0.7699999999999999,
            0.72,
            0.9400000000000001,
            0.95,
            0.95,
            0.95,
            0.95,
            0.95,
            0.6900000000000001,
            0.95,
            0.68,
            0.67,
            0.7300000000000001
           ]
          },
          {
           "label": "C",
           "range": [
            34.044564806196036,
            999.5799830630043
           ],
           "values": [
            985.9610932677559,
            42.986174543112845,
            229.01102746969292,
            742.7968206703332,
            468.67690284361646,
            490.3809427498274,
            791.9343602259476,
            443.40992139088627,
            230.79823966472367,
            904.5605750562169,
            618.5359436816985,
            681.4942037850157,
            610.4210371679835,
            556.7875048661664,
            588.2926574305587,
            319.4573555453265,
            840.6430047208828,
            841.8011824901422,
            937.7943500341555,
            953.852541072988,
            860.5396099335658,
            728.5397904489929,
            989.6672035029866,
            670.2158080406269,
            807.2939003590873,
            896.0333895472468,
            388.2873369631242,
            775.6390198207105,
            674.7580389273778,
            938.7140024362848,
            998.8691197876544,
            965.6974589085913,
            867.0075825538077,
            994.4347472002098,
            34.044564806196036,
            716.3077375280862,
            825.3347667765952,
            913.6464981244693,
            764.6577107130777,
            663.1976827822581,
            888.9225202422203,
            956.2004395106766,
            997.9439583651497,
            97.62896735411101,
            921.2516944042898,
            831.4416059662278,
            517.8819258121162,
            948.006582164727,
            797.6812416910554,
            874.9002797404495,
            710.1490728571367,
            853.8103571997308,
            963.2647247723626,
            891.8381479220894,
            763.6940339230022,
            927.5913050745712,
            855.4804356439015,
            816.9269572253766,
            967.7455016563996,
            648.4880264120578,
            999.5799830630043
           ]
          },
          {
           "label": "entanglement",
           "range": [
            0,
            1
           ],
           "ticktext": [
            "full",
            "linear"
           ],
           "tickvals": [
            0,
            1
           ],
           "values": [
            0,
            1,
            1,
            0,
            1,
            0,
            1,
            1,
            1,
            1,
            0,
            0,
            0,
            0,
            0,
            0,
            0,
            0,
            0,
            0,
            0,
            0,
            0,
            0,
            0,
            0,
            0,
            0,
            0,
            0,
            0,
            0,
            0,
            0,
            0,
            0,
            1,
            0,
            0,
            1,
            1,
            0,
            0,
            0,
            0,
            0,
            0,
            1,
            0,
            0,
            0,
            0,
            0,
            0,
            0,
            0,
            0,
            0,
            1,
            0,
            0
           ]
          },
          {
           "label": "rep",
           "range": [
            1,
            5
           ],
           "values": [
            5,
            2,
            5,
            3,
            4,
            3,
            5,
            3,
            4,
            1,
            1,
            3,
            2,
            2,
            2,
            2,
            2,
            1,
            2,
            4,
            1,
            2,
            2,
            2,
            1,
            3,
            2,
            3,
            2,
            1,
            2,
            2,
            2,
            2,
            3,
            1,
            2,
            3,
            4,
            2,
            3,
            2,
            2,
            1,
            3,
            2,
            5,
            2,
            3,
            1,
            2,
            2,
            2,
            2,
            2,
            2,
            1,
            2,
            2,
            1,
            3
           ]
          },
          {
           "label": "shots",
           "range": [
            105,
            9912
           ],
           "values": [
            8120,
            3342,
            5634,
            1200,
            2551,
            3569,
            7576,
            9403,
            7048,
            4835,
            659,
            213,
            105,
            2626,
            2191,
            1525,
            1728,
            136,
            4021,
            4710,
            5897,
            4087,
            1703,
            865,
            3184,
            1979,
            1117,
            4111,
            5753,
            6499,
            8476,
            9063,
            8407,
            5632,
            7706,
            8630,
            9912,
            6478,
            3037,
            3959,
            5138,
            9009,
            9815,
            8067,
            7174,
            9473,
            9067,
            6640,
            7917,
            7301,
            5965,
            8759,
            8650,
            8390,
            9401,
            4976,
            2719,
            8284,
            7722,
            3587,
            4582
           ]
          }
         ],
         "labelangle": 30,
         "labelside": "bottom",
         "line": {
          "color": [
           0.6300000000000001,
           0.68,
           0.49000000000000005,
           0.7300000000000001,
           0.52,
           0.75,
           0.49000000000000005,
           0.5800000000000001,
           0.48,
           0.55,
           0.6799999999999999,
           0.74,
           0.9400000000000001,
           0.9299999999999999,
           0.9400000000000001,
           0.9400000000000001,
           0.95,
           0.74,
           0.95,
           0.54,
           0.69,
           0.9400000000000001,
           0.9400000000000001,
           0.9400000000000001,
           0.69,
           0.74,
           0.9400000000000001,
           0.7299999999999999,
           0.95,
           0.68,
           0.95,
           0.95,
           0.95,
           0.95,
           0.74,
           0.6799999999999999,
           0.6299999999999999,
           0.7699999999999999,
           0.5900000000000001,
           0.7,
           0.5900000000000001,
           0.9400000000000001,
           0.95,
           0.6799999999999999,
           0.72,
           0.95,
           0.61,
           0.6399999999999999,
           0.7699999999999999,
           0.72,
           0.9400000000000001,
           0.95,
           0.95,
           0.95,
           0.95,
           0.95,
           0.6900000000000001,
           0.95,
           0.68,
           0.67,
           0.7300000000000001
          ],
          "colorbar": {
           "title": {
            "text": "Objective Value"
           }
          },
          "colorscale": [
           [
            0,
            "rgb(247,251,255)"
           ],
           [
            0.125,
            "rgb(222,235,247)"
           ],
           [
            0.25,
            "rgb(198,219,239)"
           ],
           [
            0.375,
            "rgb(158,202,225)"
           ],
           [
            0.5,
            "rgb(107,174,214)"
           ],
           [
            0.625,
            "rgb(66,146,198)"
           ],
           [
            0.75,
            "rgb(33,113,181)"
           ],
           [
            0.875,
            "rgb(8,81,156)"
           ],
           [
            1,
            "rgb(8,48,107)"
           ]
          ],
          "reversescale": false,
          "showscale": true
         },
         "type": "parcoords"
        }
       ],
       "layout": {
        "autosize": true,
        "template": {
         "data": {
          "bar": [
           {
            "error_x": {
             "color": "#2a3f5f"
            },
            "error_y": {
             "color": "#2a3f5f"
            },
            "marker": {
             "line": {
              "color": "#E5ECF6",
              "width": 0.5
             },
             "pattern": {
              "fillmode": "overlay",
              "size": 10,
              "solidity": 0.2
             }
            },
            "type": "bar"
           }
          ],
          "barpolar": [
           {
            "marker": {
             "line": {
              "color": "#E5ECF6",
              "width": 0.5
             },
             "pattern": {
              "fillmode": "overlay",
              "size": 10,
              "solidity": 0.2
             }
            },
            "type": "barpolar"
           }
          ],
          "carpet": [
           {
            "aaxis": {
             "endlinecolor": "#2a3f5f",
             "gridcolor": "white",
             "linecolor": "white",
             "minorgridcolor": "white",
             "startlinecolor": "#2a3f5f"
            },
            "baxis": {
             "endlinecolor": "#2a3f5f",
             "gridcolor": "white",
             "linecolor": "white",
             "minorgridcolor": "white",
             "startlinecolor": "#2a3f5f"
            },
            "type": "carpet"
           }
          ],
          "choropleth": [
           {
            "colorbar": {
             "outlinewidth": 0,
             "ticks": ""
            },
            "type": "choropleth"
           }
          ],
          "contour": [
           {
            "colorbar": {
             "outlinewidth": 0,
             "ticks": ""
            },
            "colorscale": [
             [
              0,
              "#0d0887"
             ],
             [
              0.1111111111111111,
              "#46039f"
             ],
             [
              0.2222222222222222,
              "#7201a8"
             ],
             [
              0.3333333333333333,
              "#9c179e"
             ],
             [
              0.4444444444444444,
              "#bd3786"
             ],
             [
              0.5555555555555556,
              "#d8576b"
             ],
             [
              0.6666666666666666,
              "#ed7953"
             ],
             [
              0.7777777777777778,
              "#fb9f3a"
             ],
             [
              0.8888888888888888,
              "#fdca26"
             ],
             [
              1,
              "#f0f921"
             ]
            ],
            "type": "contour"
           }
          ],
          "contourcarpet": [
           {
            "colorbar": {
             "outlinewidth": 0,
             "ticks": ""
            },
            "type": "contourcarpet"
           }
          ],
          "heatmap": [
           {
            "colorbar": {
             "outlinewidth": 0,
             "ticks": ""
            },
            "colorscale": [
             [
              0,
              "#0d0887"
             ],
             [
              0.1111111111111111,
              "#46039f"
             ],
             [
              0.2222222222222222,
              "#7201a8"
             ],
             [
              0.3333333333333333,
              "#9c179e"
             ],
             [
              0.4444444444444444,
              "#bd3786"
             ],
             [
              0.5555555555555556,
              "#d8576b"
             ],
             [
              0.6666666666666666,
              "#ed7953"
             ],
             [
              0.7777777777777778,
              "#fb9f3a"
             ],
             [
              0.8888888888888888,
              "#fdca26"
             ],
             [
              1,
              "#f0f921"
             ]
            ],
            "type": "heatmap"
           }
          ],
          "heatmapgl": [
           {
            "colorbar": {
             "outlinewidth": 0,
             "ticks": ""
            },
            "colorscale": [
             [
              0,
              "#0d0887"
             ],
             [
              0.1111111111111111,
              "#46039f"
             ],
             [
              0.2222222222222222,
              "#7201a8"
             ],
             [
              0.3333333333333333,
              "#9c179e"
             ],
             [
              0.4444444444444444,
              "#bd3786"
             ],
             [
              0.5555555555555556,
              "#d8576b"
             ],
             [
              0.6666666666666666,
              "#ed7953"
             ],
             [
              0.7777777777777778,
              "#fb9f3a"
             ],
             [
              0.8888888888888888,
              "#fdca26"
             ],
             [
              1,
              "#f0f921"
             ]
            ],
            "type": "heatmapgl"
           }
          ],
          "histogram": [
           {
            "marker": {
             "pattern": {
              "fillmode": "overlay",
              "size": 10,
              "solidity": 0.2
             }
            },
            "type": "histogram"
           }
          ],
          "histogram2d": [
           {
            "colorbar": {
             "outlinewidth": 0,
             "ticks": ""
            },
            "colorscale": [
             [
              0,
              "#0d0887"
             ],
             [
              0.1111111111111111,
              "#46039f"
             ],
             [
              0.2222222222222222,
              "#7201a8"
             ],
             [
              0.3333333333333333,
              "#9c179e"
             ],
             [
              0.4444444444444444,
              "#bd3786"
             ],
             [
              0.5555555555555556,
              "#d8576b"
             ],
             [
              0.6666666666666666,
              "#ed7953"
             ],
             [
              0.7777777777777778,
              "#fb9f3a"
             ],
             [
              0.8888888888888888,
              "#fdca26"
             ],
             [
              1,
              "#f0f921"
             ]
            ],
            "type": "histogram2d"
           }
          ],
          "histogram2dcontour": [
           {
            "colorbar": {
             "outlinewidth": 0,
             "ticks": ""
            },
            "colorscale": [
             [
              0,
              "#0d0887"
             ],
             [
              0.1111111111111111,
              "#46039f"
             ],
             [
              0.2222222222222222,
              "#7201a8"
             ],
             [
              0.3333333333333333,
              "#9c179e"
             ],
             [
              0.4444444444444444,
              "#bd3786"
             ],
             [
              0.5555555555555556,
              "#d8576b"
             ],
             [
              0.6666666666666666,
              "#ed7953"
             ],
             [
              0.7777777777777778,
              "#fb9f3a"
             ],
             [
              0.8888888888888888,
              "#fdca26"
             ],
             [
              1,
              "#f0f921"
             ]
            ],
            "type": "histogram2dcontour"
           }
          ],
          "mesh3d": [
           {
            "colorbar": {
             "outlinewidth": 0,
             "ticks": ""
            },
            "type": "mesh3d"
           }
          ],
          "parcoords": [
           {
            "line": {
             "colorbar": {
              "outlinewidth": 0,
              "ticks": ""
             }
            },
            "type": "parcoords"
           }
          ],
          "pie": [
           {
            "automargin": true,
            "type": "pie"
           }
          ],
          "scatter": [
           {
            "fillpattern": {
             "fillmode": "overlay",
             "size": 10,
             "solidity": 0.2
            },
            "type": "scatter"
           }
          ],
          "scatter3d": [
           {
            "line": {
             "colorbar": {
              "outlinewidth": 0,
              "ticks": ""
             }
            },
            "marker": {
             "colorbar": {
              "outlinewidth": 0,
              "ticks": ""
             }
            },
            "type": "scatter3d"
           }
          ],
          "scattercarpet": [
           {
            "marker": {
             "colorbar": {
              "outlinewidth": 0,
              "ticks": ""
             }
            },
            "type": "scattercarpet"
           }
          ],
          "scattergeo": [
           {
            "marker": {
             "colorbar": {
              "outlinewidth": 0,
              "ticks": ""
             }
            },
            "type": "scattergeo"
           }
          ],
          "scattergl": [
           {
            "marker": {
             "colorbar": {
              "outlinewidth": 0,
              "ticks": ""
             }
            },
            "type": "scattergl"
           }
          ],
          "scattermapbox": [
           {
            "marker": {
             "colorbar": {
              "outlinewidth": 0,
              "ticks": ""
             }
            },
            "type": "scattermapbox"
           }
          ],
          "scatterpolar": [
           {
            "marker": {
             "colorbar": {
              "outlinewidth": 0,
              "ticks": ""
             }
            },
            "type": "scatterpolar"
           }
          ],
          "scatterpolargl": [
           {
            "marker": {
             "colorbar": {
              "outlinewidth": 0,
              "ticks": ""
             }
            },
            "type": "scatterpolargl"
           }
          ],
          "scatterternary": [
           {
            "marker": {
             "colorbar": {
              "outlinewidth": 0,
              "ticks": ""
             }
            },
            "type": "scatterternary"
           }
          ],
          "surface": [
           {
            "colorbar": {
             "outlinewidth": 0,
             "ticks": ""
            },
            "colorscale": [
             [
              0,
              "#0d0887"
             ],
             [
              0.1111111111111111,
              "#46039f"
             ],
             [
              0.2222222222222222,
              "#7201a8"
             ],
             [
              0.3333333333333333,
              "#9c179e"
             ],
             [
              0.4444444444444444,
              "#bd3786"
             ],
             [
              0.5555555555555556,
              "#d8576b"
             ],
             [
              0.6666666666666666,
              "#ed7953"
             ],
             [
              0.7777777777777778,
              "#fb9f3a"
             ],
             [
              0.8888888888888888,
              "#fdca26"
             ],
             [
              1,
              "#f0f921"
             ]
            ],
            "type": "surface"
           }
          ],
          "table": [
           {
            "cells": {
             "fill": {
              "color": "#EBF0F8"
             },
             "line": {
              "color": "white"
             }
            },
            "header": {
             "fill": {
              "color": "#C8D4E3"
             },
             "line": {
              "color": "white"
             }
            },
            "type": "table"
           }
          ]
         },
         "layout": {
          "annotationdefaults": {
           "arrowcolor": "#2a3f5f",
           "arrowhead": 0,
           "arrowwidth": 1
          },
          "autotypenumbers": "strict",
          "coloraxis": {
           "colorbar": {
            "outlinewidth": 0,
            "ticks": ""
           }
          },
          "colorscale": {
           "diverging": [
            [
             0,
             "#8e0152"
            ],
            [
             0.1,
             "#c51b7d"
            ],
            [
             0.2,
             "#de77ae"
            ],
            [
             0.3,
             "#f1b6da"
            ],
            [
             0.4,
             "#fde0ef"
            ],
            [
             0.5,
             "#f7f7f7"
            ],
            [
             0.6,
             "#e6f5d0"
            ],
            [
             0.7,
             "#b8e186"
            ],
            [
             0.8,
             "#7fbc41"
            ],
            [
             0.9,
             "#4d9221"
            ],
            [
             1,
             "#276419"
            ]
           ],
           "sequential": [
            [
             0,
             "#0d0887"
            ],
            [
             0.1111111111111111,
             "#46039f"
            ],
            [
             0.2222222222222222,
             "#7201a8"
            ],
            [
             0.3333333333333333,
             "#9c179e"
            ],
            [
             0.4444444444444444,
             "#bd3786"
            ],
            [
             0.5555555555555556,
             "#d8576b"
            ],
            [
             0.6666666666666666,
             "#ed7953"
            ],
            [
             0.7777777777777778,
             "#fb9f3a"
            ],
            [
             0.8888888888888888,
             "#fdca26"
            ],
            [
             1,
             "#f0f921"
            ]
           ],
           "sequentialminus": [
            [
             0,
             "#0d0887"
            ],
            [
             0.1111111111111111,
             "#46039f"
            ],
            [
             0.2222222222222222,
             "#7201a8"
            ],
            [
             0.3333333333333333,
             "#9c179e"
            ],
            [
             0.4444444444444444,
             "#bd3786"
            ],
            [
             0.5555555555555556,
             "#d8576b"
            ],
            [
             0.6666666666666666,
             "#ed7953"
            ],
            [
             0.7777777777777778,
             "#fb9f3a"
            ],
            [
             0.8888888888888888,
             "#fdca26"
            ],
            [
             1,
             "#f0f921"
            ]
           ]
          },
          "colorway": [
           "#636efa",
           "#EF553B",
           "#00cc96",
           "#ab63fa",
           "#FFA15A",
           "#19d3f3",
           "#FF6692",
           "#B6E880",
           "#FF97FF",
           "#FECB52"
          ],
          "font": {
           "color": "#2a3f5f"
          },
          "geo": {
           "bgcolor": "white",
           "lakecolor": "white",
           "landcolor": "#E5ECF6",
           "showlakes": true,
           "showland": true,
           "subunitcolor": "white"
          },
          "hoverlabel": {
           "align": "left"
          },
          "hovermode": "closest",
          "mapbox": {
           "style": "light"
          },
          "paper_bgcolor": "white",
          "plot_bgcolor": "#E5ECF6",
          "polar": {
           "angularaxis": {
            "gridcolor": "white",
            "linecolor": "white",
            "ticks": ""
           },
           "bgcolor": "#E5ECF6",
           "radialaxis": {
            "gridcolor": "white",
            "linecolor": "white",
            "ticks": ""
           }
          },
          "scene": {
           "xaxis": {
            "backgroundcolor": "#E5ECF6",
            "gridcolor": "white",
            "gridwidth": 2,
            "linecolor": "white",
            "showbackground": true,
            "ticks": "",
            "zerolinecolor": "white"
           },
           "yaxis": {
            "backgroundcolor": "#E5ECF6",
            "gridcolor": "white",
            "gridwidth": 2,
            "linecolor": "white",
            "showbackground": true,
            "ticks": "",
            "zerolinecolor": "white"
           },
           "zaxis": {
            "backgroundcolor": "#E5ECF6",
            "gridcolor": "white",
            "gridwidth": 2,
            "linecolor": "white",
            "showbackground": true,
            "ticks": "",
            "zerolinecolor": "white"
           }
          },
          "shapedefaults": {
           "line": {
            "color": "#2a3f5f"
           }
          },
          "ternary": {
           "aaxis": {
            "gridcolor": "white",
            "linecolor": "white",
            "ticks": ""
           },
           "baxis": {
            "gridcolor": "white",
            "linecolor": "white",
            "ticks": ""
           },
           "bgcolor": "#E5ECF6",
           "caxis": {
            "gridcolor": "white",
            "linecolor": "white",
            "ticks": ""
           }
          },
          "title": {
           "x": 0.05
          },
          "xaxis": {
           "automargin": true,
           "gridcolor": "white",
           "linecolor": "white",
           "ticks": "",
           "title": {
            "standoff": 15
           },
           "zerolinecolor": "white",
           "zerolinewidth": 2
          },
          "yaxis": {
           "automargin": true,
           "gridcolor": "white",
           "linecolor": "white",
           "ticks": "",
           "title": {
            "standoff": 15
           },
           "zerolinecolor": "white",
           "zerolinewidth": 2
          }
         }
        },
        "title": {
         "text": "Parallel Coordinate Plot"
        }
       }
      },
      "image/png": "[encoded data removed]",
      "text/html": [
       "<div>                            <div id=\"2e550f93-01af-42e1-bb46-ee84790f271a\" class=\"plotly-graph-div\" style=\"height:525px; width:100%;\"></div>            <script type=\"text/javascript\">                require([\"plotly\"], function(Plotly) {                    window.PLOTLYENV=window.PLOTLYENV || {};                                    if (document.getElementById(\"2e550f93-01af-42e1-bb46-ee84790f271a\")) {                    Plotly.newPlot(                        \"2e550f93-01af-42e1-bb46-ee84790f271a\",                        [{\"dimensions\":[{\"label\":\"Objective Value\",\"range\":[0.48,0.95],\"values\":[0.6300000000000001,0.68,0.49000000000000005,0.7300000000000001,0.52,0.75,0.49000000000000005,0.5800000000000001,0.48,0.55,0.6799999999999999,0.74,0.9400000000000001,0.9299999999999999,0.9400000000000001,0.9400000000000001,0.95,0.74,0.95,0.54,0.69,0.9400000000000001,0.9400000000000001,0.9400000000000001,0.69,0.74,0.9400000000000001,0.7299999999999999,0.95,0.68,0.95,0.95,0.95,0.95,0.74,0.6799999999999999,0.6299999999999999,0.7699999999999999,0.5900000000000001,0.7,0.5900000000000001,0.9400000000000001,0.95,0.6799999999999999,0.72,0.95,0.61,0.6399999999999999,0.7699999999999999,0.72,0.9400000000000001,0.95,0.95,0.95,0.95,0.95,0.6900000000000001,0.95,0.68,0.67,0.7300000000000001]},{\"label\":\"C\",\"range\":[34.044564806196036,999.5799830630043],\"values\":[985.9610932677559,42.986174543112845,229.01102746969292,742.7968206703332,468.67690284361646,490.3809427498274,791.9343602259476,443.40992139088627,230.79823966472367,904.5605750562169,618.5359436816985,681.4942037850157,610.4210371679835,556.7875048661664,588.2926574305587,319.4573555453265,840.6430047208828,841.8011824901422,937.7943500341555,953.852541072988,860.5396099335658,728.5397904489929,989.6672035029866,670.2158080406269,807.2939003590873,896.0333895472468,388.2873369631242,775.6390198207105,674.7580389273778,938.7140024362848,998.8691197876544,965.6974589085913,867.0075825538077,994.4347472002098,34.044564806196036,716.3077375280862,825.3347667765952,913.6464981244693,764.6577107130777,663.1976827822581,888.9225202422203,956.2004395106766,997.9439583651497,97.62896735411101,921.2516944042898,831.4416059662278,517.8819258121162,948.006582164727,797.6812416910554,874.9002797404495,710.1490728571367,853.8103571997308,963.2647247723626,891.8381479220894,763.6940339230022,927.5913050745712,855.4804356439015,816.9269572253766,967.7455016563996,648.4880264120578,999.5799830630043]},{\"label\":\"entanglement\",\"range\":[0,1],\"ticktext\":[\"full\",\"linear\"],\"tickvals\":[0,1],\"values\":[0,1,1,0,1,0,1,1,1,1,0,0,0,0,0,0,0,0,0,0,0,0,0,0,0,0,0,0,0,0,0,0,0,0,0,0,1,0,0,1,1,0,0,0,0,0,0,1,0,0,0,0,0,0,0,0,0,0,1,0,0]},{\"label\":\"rep\",\"range\":[1,5],\"values\":[5,2,5,3,4,3,5,3,4,1,1,3,2,2,2,2,2,1,2,4,1,2,2,2,1,3,2,3,2,1,2,2,2,2,3,1,2,3,4,2,3,2,2,1,3,2,5,2,3,1,2,2,2,2,2,2,1,2,2,1,3]},{\"label\":\"shots\",\"range\":[105,9912],\"values\":[8120,3342,5634,1200,2551,3569,7576,9403,7048,4835,659,213,105,2626,2191,1525,1728,136,4021,4710,5897,4087,1703,865,3184,1979,1117,4111,5753,6499,8476,9063,8407,5632,7706,8630,9912,6478,3037,3959,5138,9009,9815,8067,7174,9473,9067,6640,7917,7301,5965,8759,8650,8390,9401,4976,2719,8284,7722,3587,4582]}],\"labelangle\":30,\"labelside\":\"bottom\",\"line\":{\"color\":[0.6300000000000001,0.68,0.49000000000000005,0.7300000000000001,0.52,0.75,0.49000000000000005,0.5800000000000001,0.48,0.55,0.6799999999999999,0.74,0.9400000000000001,0.9299999999999999,0.9400000000000001,0.9400000000000001,0.95,0.74,0.95,0.54,0.69,0.9400000000000001,0.9400000000000001,0.9400000000000001,0.69,0.74,0.9400000000000001,0.7299999999999999,0.95,0.68,0.95,0.95,0.95,0.95,0.74,0.6799999999999999,0.6299999999999999,0.7699999999999999,0.5900000000000001,0.7,0.5900000000000001,0.9400000000000001,0.95,0.6799999999999999,0.72,0.95,0.61,0.6399999999999999,0.7699999999999999,0.72,0.9400000000000001,0.95,0.95,0.95,0.95,0.95,0.6900000000000001,0.95,0.68,0.67,0.7300000000000001],\"colorbar\":{\"title\":{\"text\":\"Objective Value\"}},\"colorscale\":[[0.0,\"rgb(247,251,255)\"],[0.125,\"rgb(222,235,247)\"],[0.25,\"rgb(198,219,239)\"],[0.375,\"rgb(158,202,225)\"],[0.5,\"rgb(107,174,214)\"],[0.625,\"rgb(66,146,198)\"],[0.75,\"rgb(33,113,181)\"],[0.875,\"rgb(8,81,156)\"],[1.0,\"rgb(8,48,107)\"]],\"reversescale\":false,\"showscale\":true},\"type\":\"parcoords\"}],                        {\"title\":{\"text\":\"Parallel Coordinate Plot\"},\"template\":{\"data\":{\"histogram2dcontour\":[{\"type\":\"histogram2dcontour\",\"colorbar\":{\"outlinewidth\":0,\"ticks\":\"\"},\"colorscale\":[[0.0,\"#0d0887\"],[0.1111111111111111,\"#46039f\"],[0.2222222222222222,\"#7201a8\"],[0.3333333333333333,\"#9c179e\"],[0.4444444444444444,\"#bd3786\"],[0.5555555555555556,\"#d8576b\"],[0.6666666666666666,\"#ed7953\"],[0.7777777777777778,\"#fb9f3a\"],[0.8888888888888888,\"#fdca26\"],[1.0,\"#f0f921\"]]}],\"choropleth\":[{\"type\":\"choropleth\",\"colorbar\":{\"outlinewidth\":0,\"ticks\":\"\"}}],\"histogram2d\":[{\"type\":\"histogram2d\",\"colorbar\":{\"outlinewidth\":0,\"ticks\":\"\"},\"colorscale\":[[0.0,\"#0d0887\"],[0.1111111111111111,\"#46039f\"],[0.2222222222222222,\"#7201a8\"],[0.3333333333333333,\"#9c179e\"],[0.4444444444444444,\"#bd3786\"],[0.5555555555555556,\"#d8576b\"],[0.6666666666666666,\"#ed7953\"],[0.7777777777777778,\"#fb9f3a\"],[0.8888888888888888,\"#fdca26\"],[1.0,\"#f0f921\"]]}],\"heatmap\":[{\"type\":\"heatmap\",\"colorbar\":{\"outlinewidth\":0,\"ticks\":\"\"},\"colorscale\":[[0.0,\"#0d0887\"],[0.1111111111111111,\"#46039f\"],[0.2222222222222222,\"#7201a8\"],[0.3333333333333333,\"#9c179e\"],[0.4444444444444444,\"#bd3786\"],[0.5555555555555556,\"#d8576b\"],[0.6666666666666666,\"#ed7953\"],[0.7777777777777778,\"#fb9f3a\"],[0.8888888888888888,\"#fdca26\"],[1.0,\"#f0f921\"]]}],\"heatmapgl\":[{\"type\":\"heatmapgl\",\"colorbar\":{\"outlinewidth\":0,\"ticks\":\"\"},\"colorscale\":[[0.0,\"#0d0887\"],[0.1111111111111111,\"#46039f\"],[0.2222222222222222,\"#7201a8\"],[0.3333333333333333,\"#9c179e\"],[0.4444444444444444,\"#bd3786\"],[0.5555555555555556,\"#d8576b\"],[0.6666666666666666,\"#ed7953\"],[0.7777777777777778,\"#fb9f3a\"],[0.8888888888888888,\"#fdca26\"],[1.0,\"#f0f921\"]]}],\"contourcarpet\":[{\"type\":\"contourcarpet\",\"colorbar\":{\"outlinewidth\":0,\"ticks\":\"\"}}],\"contour\":[{\"type\":\"contour\",\"colorbar\":{\"outlinewidth\":0,\"ticks\":\"\"},\"colorscale\":[[0.0,\"#0d0887\"],[0.1111111111111111,\"#46039f\"],[0.2222222222222222,\"#7201a8\"],[0.3333333333333333,\"#9c179e\"],[0.4444444444444444,\"#bd3786\"],[0.5555555555555556,\"#d8576b\"],[0.6666666666666666,\"#ed7953\"],[0.7777777777777778,\"#fb9f3a\"],[0.8888888888888888,\"#fdca26\"],[1.0,\"#f0f921\"]]}],\"surface\":[{\"type\":\"surface\",\"colorbar\":{\"outlinewidth\":0,\"ticks\":\"\"},\"colorscale\":[[0.0,\"#0d0887\"],[0.1111111111111111,\"#46039f\"],[0.2222222222222222,\"#7201a8\"],[0.3333333333333333,\"#9c179e\"],[0.4444444444444444,\"#bd3786\"],[0.5555555555555556,\"#d8576b\"],[0.6666666666666666,\"#ed7953\"],[0.7777777777777778,\"#fb9f3a\"],[0.8888888888888888,\"#fdca26\"],[1.0,\"#f0f921\"]]}],\"mesh3d\":[{\"type\":\"mesh3d\",\"colorbar\":{\"outlinewidth\":0,\"ticks\":\"\"}}],\"scatter\":[{\"fillpattern\":{\"fillmode\":\"overlay\",\"size\":10,\"solidity\":0.2},\"type\":\"scatter\"}],\"parcoords\":[{\"type\":\"parcoords\",\"line\":{\"colorbar\":{\"outlinewidth\":0,\"ticks\":\"\"}}}],\"scatterpolargl\":[{\"type\":\"scatterpolargl\",\"marker\":{\"colorbar\":{\"outlinewidth\":0,\"ticks\":\"\"}}}],\"bar\":[{\"error_x\":{\"color\":\"#2a3f5f\"},\"error_y\":{\"color\":\"#2a3f5f\"},\"marker\":{\"line\":{\"color\":\"#E5ECF6\",\"width\":0.5},\"pattern\":{\"fillmode\":\"overlay\",\"size\":10,\"solidity\":0.2}},\"type\":\"bar\"}],\"scattergeo\":[{\"type\":\"scattergeo\",\"marker\":{\"colorbar\":{\"outlinewidth\":0,\"ticks\":\"\"}}}],\"scatterpolar\":[{\"type\":\"scatterpolar\",\"marker\":{\"colorbar\":{\"outlinewidth\":0,\"ticks\":\"\"}}}],\"histogram\":[{\"marker\":{\"pattern\":{\"fillmode\":\"overlay\",\"size\":10,\"solidity\":0.2}},\"type\":\"histogram\"}],\"scattergl\":[{\"type\":\"scattergl\",\"marker\":{\"colorbar\":{\"outlinewidth\":0,\"ticks\":\"\"}}}],\"scatter3d\":[{\"type\":\"scatter3d\",\"line\":{\"colorbar\":{\"outlinewidth\":0,\"ticks\":\"\"}},\"marker\":{\"colorbar\":{\"outlinewidth\":0,\"ticks\":\"\"}}}],\"scattermapbox\":[{\"type\":\"scattermapbox\",\"marker\":{\"colorbar\":{\"outlinewidth\":0,\"ticks\":\"\"}}}],\"scatterternary\":[{\"type\":\"scatterternary\",\"marker\":{\"colorbar\":{\"outlinewidth\":0,\"ticks\":\"\"}}}],\"scattercarpet\":[{\"type\":\"scattercarpet\",\"marker\":{\"colorbar\":{\"outlinewidth\":0,\"ticks\":\"\"}}}],\"carpet\":[{\"aaxis\":{\"endlinecolor\":\"#2a3f5f\",\"gridcolor\":\"white\",\"linecolor\":\"white\",\"minorgridcolor\":\"white\",\"startlinecolor\":\"#2a3f5f\"},\"baxis\":{\"endlinecolor\":\"#2a3f5f\",\"gridcolor\":\"white\",\"linecolor\":\"white\",\"minorgridcolor\":\"white\",\"startlinecolor\":\"#2a3f5f\"},\"type\":\"carpet\"}],\"table\":[{\"cells\":{\"fill\":{\"color\":\"#EBF0F8\"},\"line\":{\"color\":\"white\"}},\"header\":{\"fill\":{\"color\":\"#C8D4E3\"},\"line\":{\"color\":\"white\"}},\"type\":\"table\"}],\"barpolar\":[{\"marker\":{\"line\":{\"color\":\"#E5ECF6\",\"width\":0.5},\"pattern\":{\"fillmode\":\"overlay\",\"size\":10,\"solidity\":0.2}},\"type\":\"barpolar\"}],\"pie\":[{\"automargin\":true,\"type\":\"pie\"}]},\"layout\":{\"autotypenumbers\":\"strict\",\"colorway\":[\"#636efa\",\"#EF553B\",\"#00cc96\",\"#ab63fa\",\"#FFA15A\",\"#19d3f3\",\"#FF6692\",\"#B6E880\",\"#FF97FF\",\"#FECB52\"],\"font\":{\"color\":\"#2a3f5f\"},\"hovermode\":\"closest\",\"hoverlabel\":{\"align\":\"left\"},\"paper_bgcolor\":\"white\",\"plot_bgcolor\":\"#E5ECF6\",\"polar\":{\"bgcolor\":\"#E5ECF6\",\"angularaxis\":{\"gridcolor\":\"white\",\"linecolor\":\"white\",\"ticks\":\"\"},\"radialaxis\":{\"gridcolor\":\"white\",\"linecolor\":\"white\",\"ticks\":\"\"}},\"ternary\":{\"bgcolor\":\"#E5ECF6\",\"aaxis\":{\"gridcolor\":\"white\",\"linecolor\":\"white\",\"ticks\":\"\"},\"baxis\":{\"gridcolor\":\"white\",\"linecolor\":\"white\",\"ticks\":\"\"},\"caxis\":{\"gridcolor\":\"white\",\"linecolor\":\"white\",\"ticks\":\"\"}},\"coloraxis\":{\"colorbar\":{\"outlinewidth\":0,\"ticks\":\"\"}},\"colorscale\":{\"sequential\":[[0.0,\"#0d0887\"],[0.1111111111111111,\"#46039f\"],[0.2222222222222222,\"#7201a8\"],[0.3333333333333333,\"#9c179e\"],[0.4444444444444444,\"#bd3786\"],[0.5555555555555556,\"#d8576b\"],[0.6666666666666666,\"#ed7953\"],[0.7777777777777778,\"#fb9f3a\"],[0.8888888888888888,\"#fdca26\"],[1.0,\"#f0f921\"]],\"sequentialminus\":[[0.0,\"#0d0887\"],[0.1111111111111111,\"#46039f\"],[0.2222222222222222,\"#7201a8\"],[0.3333333333333333,\"#9c179e\"],[0.4444444444444444,\"#bd3786\"],[0.5555555555555556,\"#d8576b\"],[0.6666666666666666,\"#ed7953\"],[0.7777777777777778,\"#fb9f3a\"],[0.8888888888888888,\"#fdca26\"],[1.0,\"#f0f921\"]],\"diverging\":[[0,\"#8e0152\"],[0.1,\"#c51b7d\"],[0.2,\"#de77ae\"],[0.3,\"#f1b6da\"],[0.4,\"#fde0ef\"],[0.5,\"#f7f7f7\"],[0.6,\"#e6f5d0\"],[0.7,\"#b8e186\"],[0.8,\"#7fbc41\"],[0.9,\"#4d9221\"],[1,\"#276419\"]]},\"xaxis\":{\"gridcolor\":\"white\",\"linecolor\":\"white\",\"ticks\":\"\",\"title\":{\"standoff\":15},\"zerolinecolor\":\"white\",\"automargin\":true,\"zerolinewidth\":2},\"yaxis\":{\"gridcolor\":\"white\",\"linecolor\":\"white\",\"ticks\":\"\",\"title\":{\"standoff\":15},\"zerolinecolor\":\"white\",\"automargin\":true,\"zerolinewidth\":2},\"scene\":{\"xaxis\":{\"backgroundcolor\":\"#E5ECF6\",\"gridcolor\":\"white\",\"linecolor\":\"white\",\"showbackground\":true,\"ticks\":\"\",\"zerolinecolor\":\"white\",\"gridwidth\":2},\"yaxis\":{\"backgroundcolor\":\"#E5ECF6\",\"gridcolor\":\"white\",\"linecolor\":\"white\",\"showbackground\":true,\"ticks\":\"\",\"zerolinecolor\":\"white\",\"gridwidth\":2},\"zaxis\":{\"backgroundcolor\":\"#E5ECF6\",\"gridcolor\":\"white\",\"linecolor\":\"white\",\"showbackground\":true,\"ticks\":\"\",\"zerolinecolor\":\"white\",\"gridwidth\":2}},\"shapedefaults\":{\"line\":{\"color\":\"#2a3f5f\"}},\"annotationdefaults\":{\"arrowcolor\":\"#2a3f5f\",\"arrowhead\":0,\"arrowwidth\":1},\"geo\":{\"bgcolor\":\"white\",\"landcolor\":\"#E5ECF6\",\"subunitcolor\":\"white\",\"showland\":true,\"showlakes\":true,\"lakecolor\":\"white\"},\"title\":{\"x\":0.05},\"mapbox\":{\"style\":\"light\"}}}},                        {\"responsive\": true}                    ).then(function(){\n",
       "                            \n",
       "var gd = document.getElementById('2e550f93-01af-42e1-bb46-ee84790f271a');\n",
       "var x = new MutationObserver(function (mutations, observer) {{\n",
       "        var display = window.getComputedStyle(gd).display;\n",
       "        if (!display || display === 'none') {{\n",
       "            console.log([gd, 'removed!']);\n",
       "            Plotly.purge(gd);\n",
       "            observer.disconnect();\n",
       "        }}\n",
       "}});\n",
       "\n",
       "// Listen for the removal of the full notebook cells\n",
       "var notebookContainer = gd.closest('#notebook-container');\n",
       "if (notebookContainer) {{\n",
       "    x.observe(notebookContainer, {childList: true});\n",
       "}}\n",
       "\n",
       "// Listen for the clearing of the current output cell\n",
       "var outputEl = gd.closest('.output');\n",
       "if (outputEl) {{\n",
       "    x.observe(outputEl, {childList: true});\n",
       "}}\n",
       "\n",
       "                        })                };                });            </script>        </div>"
      ]
     },
     "metadata": {},
     "output_type": "display_data"
    }
   ],
   "source": [
    "optuna.visualization.plot_parallel_coordinate(study, params=['rep', 'entanglement', \"shots\", \"C\"])"
   ]
  },
  {
   "cell_type": "markdown",
   "id": "3b2b1d71",
   "metadata": {},
   "source": [
    "\n",
    "This  plot_param_importances() generates a bar plot to visualize the relative importances of different hyperparameters in influencing the optimization process during a hyperparameter search conducted using Optuna. In our case it shows that the number of repetitions is the dominating parameter. "
   ]
  },
  {
   "cell_type": "code",
   "execution_count": 23,
   "id": "99171d38",
   "metadata": {},
   "outputs": [
    {
     "data": {
      "application/vnd.plotly.v1+json": {
       "config": {
        "plotlyServerURL": "https://plot.ly"
       },
       "data": [
        {
         "cliponaxis": false,
         "hovertemplate": [
          "C (FloatDistribution): 0.004105500551863334<extra></extra>",
          "shots (IntDistribution): 0.015324361613781997<extra></extra>",
          "entanglement (CategoricalDistribution): 0.342806718267077<extra></extra>",
          "rep (IntDistribution): 0.6377634195672778<extra></extra>"
         ],
         "name": "Objective Value",
         "orientation": "h",
         "text": [
          "<0.01",
          "0.02",
          "0.34",
          "0.64"
         ],
         "textposition": "outside",
         "type": "bar",
         "x": [
          0.004105500551863334,
          0.015324361613781997,
          0.342806718267077,
          0.6377634195672778
         ],
         "y": [
          "C",
          "shots",
          "entanglement",
          "rep"
         ]
        }
       ],
       "layout": {
        "autosize": true,
        "template": {
         "data": {
          "bar": [
           {
            "error_x": {
             "color": "#2a3f5f"
            },
            "error_y": {
             "color": "#2a3f5f"
            },
            "marker": {
             "line": {
              "color": "#E5ECF6",
              "width": 0.5
             },
             "pattern": {
              "fillmode": "overlay",
              "size": 10,
              "solidity": 0.2
             }
            },
            "type": "bar"
           }
          ],
          "barpolar": [
           {
            "marker": {
             "line": {
              "color": "#E5ECF6",
              "width": 0.5
             },
             "pattern": {
              "fillmode": "overlay",
              "size": 10,
              "solidity": 0.2
             }
            },
            "type": "barpolar"
           }
          ],
          "carpet": [
           {
            "aaxis": {
             "endlinecolor": "#2a3f5f",
             "gridcolor": "white",
             "linecolor": "white",
             "minorgridcolor": "white",
             "startlinecolor": "#2a3f5f"
            },
            "baxis": {
             "endlinecolor": "#2a3f5f",
             "gridcolor": "white",
             "linecolor": "white",
             "minorgridcolor": "white",
             "startlinecolor": "#2a3f5f"
            },
            "type": "carpet"
           }
          ],
          "choropleth": [
           {
            "colorbar": {
             "outlinewidth": 0,
             "ticks": ""
            },
            "type": "choropleth"
           }
          ],
          "contour": [
           {
            "colorbar": {
             "outlinewidth": 0,
             "ticks": ""
            },
            "colorscale": [
             [
              0,
              "#0d0887"
             ],
             [
              0.1111111111111111,
              "#46039f"
             ],
             [
              0.2222222222222222,
              "#7201a8"
             ],
             [
              0.3333333333333333,
              "#9c179e"
             ],
             [
              0.4444444444444444,
              "#bd3786"
             ],
             [
              0.5555555555555556,
              "#d8576b"
             ],
             [
              0.6666666666666666,
              "#ed7953"
             ],
             [
              0.7777777777777778,
              "#fb9f3a"
             ],
             [
              0.8888888888888888,
              "#fdca26"
             ],
             [
              1,
              "#f0f921"
             ]
            ],
            "type": "contour"
           }
          ],
          "contourcarpet": [
           {
            "colorbar": {
             "outlinewidth": 0,
             "ticks": ""
            },
            "type": "contourcarpet"
           }
          ],
          "heatmap": [
           {
            "colorbar": {
             "outlinewidth": 0,
             "ticks": ""
            },
            "colorscale": [
             [
              0,
              "#0d0887"
             ],
             [
              0.1111111111111111,
              "#46039f"
             ],
             [
              0.2222222222222222,
              "#7201a8"
             ],
             [
              0.3333333333333333,
              "#9c179e"
             ],
             [
              0.4444444444444444,
              "#bd3786"
             ],
             [
              0.5555555555555556,
              "#d8576b"
             ],
             [
              0.6666666666666666,
              "#ed7953"
             ],
             [
              0.7777777777777778,
              "#fb9f3a"
             ],
             [
              0.8888888888888888,
              "#fdca26"
             ],
             [
              1,
              "#f0f921"
             ]
            ],
            "type": "heatmap"
           }
          ],
          "heatmapgl": [
           {
            "colorbar": {
             "outlinewidth": 0,
             "ticks": ""
            },
            "colorscale": [
             [
              0,
              "#0d0887"
             ],
             [
              0.1111111111111111,
              "#46039f"
             ],
             [
              0.2222222222222222,
              "#7201a8"
             ],
             [
              0.3333333333333333,
              "#9c179e"
             ],
             [
              0.4444444444444444,
              "#bd3786"
             ],
             [
              0.5555555555555556,
              "#d8576b"
             ],
             [
              0.6666666666666666,
              "#ed7953"
             ],
             [
              0.7777777777777778,
              "#fb9f3a"
             ],
             [
              0.8888888888888888,
              "#fdca26"
             ],
             [
              1,
              "#f0f921"
             ]
            ],
            "type": "heatmapgl"
           }
          ],
          "histogram": [
           {
            "marker": {
             "pattern": {
              "fillmode": "overlay",
              "size": 10,
              "solidity": 0.2
             }
            },
            "type": "histogram"
           }
          ],
          "histogram2d": [
           {
            "colorbar": {
             "outlinewidth": 0,
             "ticks": ""
            },
            "colorscale": [
             [
              0,
              "#0d0887"
             ],
             [
              0.1111111111111111,
              "#46039f"
             ],
             [
              0.2222222222222222,
              "#7201a8"
             ],
             [
              0.3333333333333333,
              "#9c179e"
             ],
             [
              0.4444444444444444,
              "#bd3786"
             ],
             [
              0.5555555555555556,
              "#d8576b"
             ],
             [
              0.6666666666666666,
              "#ed7953"
             ],
             [
              0.7777777777777778,
              "#fb9f3a"
             ],
             [
              0.8888888888888888,
              "#fdca26"
             ],
             [
              1,
              "#f0f921"
             ]
            ],
            "type": "histogram2d"
           }
          ],
          "histogram2dcontour": [
           {
            "colorbar": {
             "outlinewidth": 0,
             "ticks": ""
            },
            "colorscale": [
             [
              0,
              "#0d0887"
             ],
             [
              0.1111111111111111,
              "#46039f"
             ],
             [
              0.2222222222222222,
              "#7201a8"
             ],
             [
              0.3333333333333333,
              "#9c179e"
             ],
             [
              0.4444444444444444,
              "#bd3786"
             ],
             [
              0.5555555555555556,
              "#d8576b"
             ],
             [
              0.6666666666666666,
              "#ed7953"
             ],
             [
              0.7777777777777778,
              "#fb9f3a"
             ],
             [
              0.8888888888888888,
              "#fdca26"
             ],
             [
              1,
              "#f0f921"
             ]
            ],
            "type": "histogram2dcontour"
           }
          ],
          "mesh3d": [
           {
            "colorbar": {
             "outlinewidth": 0,
             "ticks": ""
            },
            "type": "mesh3d"
           }
          ],
          "parcoords": [
           {
            "line": {
             "colorbar": {
              "outlinewidth": 0,
              "ticks": ""
             }
            },
            "type": "parcoords"
           }
          ],
          "pie": [
           {
            "automargin": true,
            "type": "pie"
           }
          ],
          "scatter": [
           {
            "fillpattern": {
             "fillmode": "overlay",
             "size": 10,
             "solidity": 0.2
            },
            "type": "scatter"
           }
          ],
          "scatter3d": [
           {
            "line": {
             "colorbar": {
              "outlinewidth": 0,
              "ticks": ""
             }
            },
            "marker": {
             "colorbar": {
              "outlinewidth": 0,
              "ticks": ""
             }
            },
            "type": "scatter3d"
           }
          ],
          "scattercarpet": [
           {
            "marker": {
             "colorbar": {
              "outlinewidth": 0,
              "ticks": ""
             }
            },
            "type": "scattercarpet"
           }
          ],
          "scattergeo": [
           {
            "marker": {
             "colorbar": {
              "outlinewidth": 0,
              "ticks": ""
             }
            },
            "type": "scattergeo"
           }
          ],
          "scattergl": [
           {
            "marker": {
             "colorbar": {
              "outlinewidth": 0,
              "ticks": ""
             }
            },
            "type": "scattergl"
           }
          ],
          "scattermapbox": [
           {
            "marker": {
             "colorbar": {
              "outlinewidth": 0,
              "ticks": ""
             }
            },
            "type": "scattermapbox"
           }
          ],
          "scatterpolar": [
           {
            "marker": {
             "colorbar": {
              "outlinewidth": 0,
              "ticks": ""
             }
            },
            "type": "scatterpolar"
           }
          ],
          "scatterpolargl": [
           {
            "marker": {
             "colorbar": {
              "outlinewidth": 0,
              "ticks": ""
             }
            },
            "type": "scatterpolargl"
           }
          ],
          "scatterternary": [
           {
            "marker": {
             "colorbar": {
              "outlinewidth": 0,
              "ticks": ""
             }
            },
            "type": "scatterternary"
           }
          ],
          "surface": [
           {
            "colorbar": {
             "outlinewidth": 0,
             "ticks": ""
            },
            "colorscale": [
             [
              0,
              "#0d0887"
             ],
             [
              0.1111111111111111,
              "#46039f"
             ],
             [
              0.2222222222222222,
              "#7201a8"
             ],
             [
              0.3333333333333333,
              "#9c179e"
             ],
             [
              0.4444444444444444,
              "#bd3786"
             ],
             [
              0.5555555555555556,
              "#d8576b"
             ],
             [
              0.6666666666666666,
              "#ed7953"
             ],
             [
              0.7777777777777778,
              "#fb9f3a"
             ],
             [
              0.8888888888888888,
              "#fdca26"
             ],
             [
              1,
              "#f0f921"
             ]
            ],
            "type": "surface"
           }
          ],
          "table": [
           {
            "cells": {
             "fill": {
              "color": "#EBF0F8"
             },
             "line": {
              "color": "white"
             }
            },
            "header": {
             "fill": {
              "color": "#C8D4E3"
             },
             "line": {
              "color": "white"
             }
            },
            "type": "table"
           }
          ]
         },
         "layout": {
          "annotationdefaults": {
           "arrowcolor": "#2a3f5f",
           "arrowhead": 0,
           "arrowwidth": 1
          },
          "autotypenumbers": "strict",
          "coloraxis": {
           "colorbar": {
            "outlinewidth": 0,
            "ticks": ""
           }
          },
          "colorscale": {
           "diverging": [
            [
             0,
             "#8e0152"
            ],
            [
             0.1,
             "#c51b7d"
            ],
            [
             0.2,
             "#de77ae"
            ],
            [
             0.3,
             "#f1b6da"
            ],
            [
             0.4,
             "#fde0ef"
            ],
            [
             0.5,
             "#f7f7f7"
            ],
            [
             0.6,
             "#e6f5d0"
            ],
            [
             0.7,
             "#b8e186"
            ],
            [
             0.8,
             "#7fbc41"
            ],
            [
             0.9,
             "#4d9221"
            ],
            [
             1,
             "#276419"
            ]
           ],
           "sequential": [
            [
             0,
             "#0d0887"
            ],
            [
             0.1111111111111111,
             "#46039f"
            ],
            [
             0.2222222222222222,
             "#7201a8"
            ],
            [
             0.3333333333333333,
             "#9c179e"
            ],
            [
             0.4444444444444444,
             "#bd3786"
            ],
            [
             0.5555555555555556,
             "#d8576b"
            ],
            [
             0.6666666666666666,
             "#ed7953"
            ],
            [
             0.7777777777777778,
             "#fb9f3a"
            ],
            [
             0.8888888888888888,
             "#fdca26"
            ],
            [
             1,
             "#f0f921"
            ]
           ],
           "sequentialminus": [
            [
             0,
             "#0d0887"
            ],
            [
             0.1111111111111111,
             "#46039f"
            ],
            [
             0.2222222222222222,
             "#7201a8"
            ],
            [
             0.3333333333333333,
             "#9c179e"
            ],
            [
             0.4444444444444444,
             "#bd3786"
            ],
            [
             0.5555555555555556,
             "#d8576b"
            ],
            [
             0.6666666666666666,
             "#ed7953"
            ],
            [
             0.7777777777777778,
             "#fb9f3a"
            ],
            [
             0.8888888888888888,
             "#fdca26"
            ],
            [
             1,
             "#f0f921"
            ]
           ]
          },
          "colorway": [
           "#636efa",
           "#EF553B",
           "#00cc96",
           "#ab63fa",
           "#FFA15A",
           "#19d3f3",
           "#FF6692",
           "#B6E880",
           "#FF97FF",
           "#FECB52"
          ],
          "font": {
           "color": "#2a3f5f"
          },
          "geo": {
           "bgcolor": "white",
           "lakecolor": "white",
           "landcolor": "#E5ECF6",
           "showlakes": true,
           "showland": true,
           "subunitcolor": "white"
          },
          "hoverlabel": {
           "align": "left"
          },
          "hovermode": "closest",
          "mapbox": {
           "style": "light"
          },
          "paper_bgcolor": "white",
          "plot_bgcolor": "#E5ECF6",
          "polar": {
           "angularaxis": {
            "gridcolor": "white",
            "linecolor": "white",
            "ticks": ""
           },
           "bgcolor": "#E5ECF6",
           "radialaxis": {
            "gridcolor": "white",
            "linecolor": "white",
            "ticks": ""
           }
          },
          "scene": {
           "xaxis": {
            "backgroundcolor": "#E5ECF6",
            "gridcolor": "white",
            "gridwidth": 2,
            "linecolor": "white",
            "showbackground": true,
            "ticks": "",
            "zerolinecolor": "white"
           },
           "yaxis": {
            "backgroundcolor": "#E5ECF6",
            "gridcolor": "white",
            "gridwidth": 2,
            "linecolor": "white",
            "showbackground": true,
            "ticks": "",
            "zerolinecolor": "white"
           },
           "zaxis": {
            "backgroundcolor": "#E5ECF6",
            "gridcolor": "white",
            "gridwidth": 2,
            "linecolor": "white",
            "showbackground": true,
            "ticks": "",
            "zerolinecolor": "white"
           }
          },
          "shapedefaults": {
           "line": {
            "color": "#2a3f5f"
           }
          },
          "ternary": {
           "aaxis": {
            "gridcolor": "white",
            "linecolor": "white",
            "ticks": ""
           },
           "baxis": {
            "gridcolor": "white",
            "linecolor": "white",
            "ticks": ""
           },
           "bgcolor": "#E5ECF6",
           "caxis": {
            "gridcolor": "white",
            "linecolor": "white",
            "ticks": ""
           }
          },
          "title": {
           "x": 0.05
          },
          "xaxis": {
           "automargin": true,
           "gridcolor": "white",
           "linecolor": "white",
           "ticks": "",
           "title": {
            "standoff": 15
           },
           "zerolinecolor": "white",
           "zerolinewidth": 2
          },
          "yaxis": {
           "automargin": true,
           "gridcolor": "white",
           "linecolor": "white",
           "ticks": "",
           "title": {
            "standoff": 15
           },
           "zerolinecolor": "white",
           "zerolinewidth": 2
          }
         }
        },
        "title": {
         "text": "Hyperparameter Importances"
        },
        "xaxis": {
         "autorange": true,
         "range": [
          0,
          0.6713299153339766
         ],
         "title": {
          "text": "Hyperparameter Importance"
         },
         "type": "linear"
        },
        "yaxis": {
         "autorange": true,
         "range": [
          -0.5,
          3.5
         ],
         "title": {
          "text": "Hyperparameter"
         },
         "type": "category"
        }
       }
      },
      "image/png": "[encoded data removed]",
      "text/html": [
       "<div>                            <div id=\"39e9954f-df9a-43d4-8b65-bc628110ff18\" class=\"plotly-graph-div\" style=\"height:525px; width:100%;\"></div>            <script type=\"text/javascript\">                require([\"plotly\"], function(Plotly) {                    window.PLOTLYENV=window.PLOTLYENV || {};                                    if (document.getElementById(\"39e9954f-df9a-43d4-8b65-bc628110ff18\")) {                    Plotly.newPlot(                        \"39e9954f-df9a-43d4-8b65-bc628110ff18\",                        [{\"cliponaxis\":false,\"hovertemplate\":[\"C (FloatDistribution): 0.004105500551863334\\u003cextra\\u003e\\u003c\\u002fextra\\u003e\",\"shots (IntDistribution): 0.015324361613781997\\u003cextra\\u003e\\u003c\\u002fextra\\u003e\",\"entanglement (CategoricalDistribution): 0.342806718267077\\u003cextra\\u003e\\u003c\\u002fextra\\u003e\",\"rep (IntDistribution): 0.6377634195672778\\u003cextra\\u003e\\u003c\\u002fextra\\u003e\"],\"name\":\"Objective Value\",\"orientation\":\"h\",\"text\":[\"\\u003c0.01\",\"0.02\",\"0.34\",\"0.64\"],\"textposition\":\"outside\",\"x\":[0.004105500551863334,0.015324361613781997,0.342806718267077,0.6377634195672778],\"y\":[\"C\",\"shots\",\"entanglement\",\"rep\"],\"type\":\"bar\"}],                        {\"title\":{\"text\":\"Hyperparameter Importances\"},\"xaxis\":{\"title\":{\"text\":\"Hyperparameter Importance\"}},\"yaxis\":{\"title\":{\"text\":\"Hyperparameter\"}},\"template\":{\"data\":{\"histogram2dcontour\":[{\"type\":\"histogram2dcontour\",\"colorbar\":{\"outlinewidth\":0,\"ticks\":\"\"},\"colorscale\":[[0.0,\"#0d0887\"],[0.1111111111111111,\"#46039f\"],[0.2222222222222222,\"#7201a8\"],[0.3333333333333333,\"#9c179e\"],[0.4444444444444444,\"#bd3786\"],[0.5555555555555556,\"#d8576b\"],[0.6666666666666666,\"#ed7953\"],[0.7777777777777778,\"#fb9f3a\"],[0.8888888888888888,\"#fdca26\"],[1.0,\"#f0f921\"]]}],\"choropleth\":[{\"type\":\"choropleth\",\"colorbar\":{\"outlinewidth\":0,\"ticks\":\"\"}}],\"histogram2d\":[{\"type\":\"histogram2d\",\"colorbar\":{\"outlinewidth\":0,\"ticks\":\"\"},\"colorscale\":[[0.0,\"#0d0887\"],[0.1111111111111111,\"#46039f\"],[0.2222222222222222,\"#7201a8\"],[0.3333333333333333,\"#9c179e\"],[0.4444444444444444,\"#bd3786\"],[0.5555555555555556,\"#d8576b\"],[0.6666666666666666,\"#ed7953\"],[0.7777777777777778,\"#fb9f3a\"],[0.8888888888888888,\"#fdca26\"],[1.0,\"#f0f921\"]]}],\"heatmap\":[{\"type\":\"heatmap\",\"colorbar\":{\"outlinewidth\":0,\"ticks\":\"\"},\"colorscale\":[[0.0,\"#0d0887\"],[0.1111111111111111,\"#46039f\"],[0.2222222222222222,\"#7201a8\"],[0.3333333333333333,\"#9c179e\"],[0.4444444444444444,\"#bd3786\"],[0.5555555555555556,\"#d8576b\"],[0.6666666666666666,\"#ed7953\"],[0.7777777777777778,\"#fb9f3a\"],[0.8888888888888888,\"#fdca26\"],[1.0,\"#f0f921\"]]}],\"heatmapgl\":[{\"type\":\"heatmapgl\",\"colorbar\":{\"outlinewidth\":0,\"ticks\":\"\"},\"colorscale\":[[0.0,\"#0d0887\"],[0.1111111111111111,\"#46039f\"],[0.2222222222222222,\"#7201a8\"],[0.3333333333333333,\"#9c179e\"],[0.4444444444444444,\"#bd3786\"],[0.5555555555555556,\"#d8576b\"],[0.6666666666666666,\"#ed7953\"],[0.7777777777777778,\"#fb9f3a\"],[0.8888888888888888,\"#fdca26\"],[1.0,\"#f0f921\"]]}],\"contourcarpet\":[{\"type\":\"contourcarpet\",\"colorbar\":{\"outlinewidth\":0,\"ticks\":\"\"}}],\"contour\":[{\"type\":\"contour\",\"colorbar\":{\"outlinewidth\":0,\"ticks\":\"\"},\"colorscale\":[[0.0,\"#0d0887\"],[0.1111111111111111,\"#46039f\"],[0.2222222222222222,\"#7201a8\"],[0.3333333333333333,\"#9c179e\"],[0.4444444444444444,\"#bd3786\"],[0.5555555555555556,\"#d8576b\"],[0.6666666666666666,\"#ed7953\"],[0.7777777777777778,\"#fb9f3a\"],[0.8888888888888888,\"#fdca26\"],[1.0,\"#f0f921\"]]}],\"surface\":[{\"type\":\"surface\",\"colorbar\":{\"outlinewidth\":0,\"ticks\":\"\"},\"colorscale\":[[0.0,\"#0d0887\"],[0.1111111111111111,\"#46039f\"],[0.2222222222222222,\"#7201a8\"],[0.3333333333333333,\"#9c179e\"],[0.4444444444444444,\"#bd3786\"],[0.5555555555555556,\"#d8576b\"],[0.6666666666666666,\"#ed7953\"],[0.7777777777777778,\"#fb9f3a\"],[0.8888888888888888,\"#fdca26\"],[1.0,\"#f0f921\"]]}],\"mesh3d\":[{\"type\":\"mesh3d\",\"colorbar\":{\"outlinewidth\":0,\"ticks\":\"\"}}],\"scatter\":[{\"fillpattern\":{\"fillmode\":\"overlay\",\"size\":10,\"solidity\":0.2},\"type\":\"scatter\"}],\"parcoords\":[{\"type\":\"parcoords\",\"line\":{\"colorbar\":{\"outlinewidth\":0,\"ticks\":\"\"}}}],\"scatterpolargl\":[{\"type\":\"scatterpolargl\",\"marker\":{\"colorbar\":{\"outlinewidth\":0,\"ticks\":\"\"}}}],\"bar\":[{\"error_x\":{\"color\":\"#2a3f5f\"},\"error_y\":{\"color\":\"#2a3f5f\"},\"marker\":{\"line\":{\"color\":\"#E5ECF6\",\"width\":0.5},\"pattern\":{\"fillmode\":\"overlay\",\"size\":10,\"solidity\":0.2}},\"type\":\"bar\"}],\"scattergeo\":[{\"type\":\"scattergeo\",\"marker\":{\"colorbar\":{\"outlinewidth\":0,\"ticks\":\"\"}}}],\"scatterpolar\":[{\"type\":\"scatterpolar\",\"marker\":{\"colorbar\":{\"outlinewidth\":0,\"ticks\":\"\"}}}],\"histogram\":[{\"marker\":{\"pattern\":{\"fillmode\":\"overlay\",\"size\":10,\"solidity\":0.2}},\"type\":\"histogram\"}],\"scattergl\":[{\"type\":\"scattergl\",\"marker\":{\"colorbar\":{\"outlinewidth\":0,\"ticks\":\"\"}}}],\"scatter3d\":[{\"type\":\"scatter3d\",\"line\":{\"colorbar\":{\"outlinewidth\":0,\"ticks\":\"\"}},\"marker\":{\"colorbar\":{\"outlinewidth\":0,\"ticks\":\"\"}}}],\"scattermapbox\":[{\"type\":\"scattermapbox\",\"marker\":{\"colorbar\":{\"outlinewidth\":0,\"ticks\":\"\"}}}],\"scatterternary\":[{\"type\":\"scatterternary\",\"marker\":{\"colorbar\":{\"outlinewidth\":0,\"ticks\":\"\"}}}],\"scattercarpet\":[{\"type\":\"scattercarpet\",\"marker\":{\"colorbar\":{\"outlinewidth\":0,\"ticks\":\"\"}}}],\"carpet\":[{\"aaxis\":{\"endlinecolor\":\"#2a3f5f\",\"gridcolor\":\"white\",\"linecolor\":\"white\",\"minorgridcolor\":\"white\",\"startlinecolor\":\"#2a3f5f\"},\"baxis\":{\"endlinecolor\":\"#2a3f5f\",\"gridcolor\":\"white\",\"linecolor\":\"white\",\"minorgridcolor\":\"white\",\"startlinecolor\":\"#2a3f5f\"},\"type\":\"carpet\"}],\"table\":[{\"cells\":{\"fill\":{\"color\":\"#EBF0F8\"},\"line\":{\"color\":\"white\"}},\"header\":{\"fill\":{\"color\":\"#C8D4E3\"},\"line\":{\"color\":\"white\"}},\"type\":\"table\"}],\"barpolar\":[{\"marker\":{\"line\":{\"color\":\"#E5ECF6\",\"width\":0.5},\"pattern\":{\"fillmode\":\"overlay\",\"size\":10,\"solidity\":0.2}},\"type\":\"barpolar\"}],\"pie\":[{\"automargin\":true,\"type\":\"pie\"}]},\"layout\":{\"autotypenumbers\":\"strict\",\"colorway\":[\"#636efa\",\"#EF553B\",\"#00cc96\",\"#ab63fa\",\"#FFA15A\",\"#19d3f3\",\"#FF6692\",\"#B6E880\",\"#FF97FF\",\"#FECB52\"],\"font\":{\"color\":\"#2a3f5f\"},\"hovermode\":\"closest\",\"hoverlabel\":{\"align\":\"left\"},\"paper_bgcolor\":\"white\",\"plot_bgcolor\":\"#E5ECF6\",\"polar\":{\"bgcolor\":\"#E5ECF6\",\"angularaxis\":{\"gridcolor\":\"white\",\"linecolor\":\"white\",\"ticks\":\"\"},\"radialaxis\":{\"gridcolor\":\"white\",\"linecolor\":\"white\",\"ticks\":\"\"}},\"ternary\":{\"bgcolor\":\"#E5ECF6\",\"aaxis\":{\"gridcolor\":\"white\",\"linecolor\":\"white\",\"ticks\":\"\"},\"baxis\":{\"gridcolor\":\"white\",\"linecolor\":\"white\",\"ticks\":\"\"},\"caxis\":{\"gridcolor\":\"white\",\"linecolor\":\"white\",\"ticks\":\"\"}},\"coloraxis\":{\"colorbar\":{\"outlinewidth\":0,\"ticks\":\"\"}},\"colorscale\":{\"sequential\":[[0.0,\"#0d0887\"],[0.1111111111111111,\"#46039f\"],[0.2222222222222222,\"#7201a8\"],[0.3333333333333333,\"#9c179e\"],[0.4444444444444444,\"#bd3786\"],[0.5555555555555556,\"#d8576b\"],[0.6666666666666666,\"#ed7953\"],[0.7777777777777778,\"#fb9f3a\"],[0.8888888888888888,\"#fdca26\"],[1.0,\"#f0f921\"]],\"sequentialminus\":[[0.0,\"#0d0887\"],[0.1111111111111111,\"#46039f\"],[0.2222222222222222,\"#7201a8\"],[0.3333333333333333,\"#9c179e\"],[0.4444444444444444,\"#bd3786\"],[0.5555555555555556,\"#d8576b\"],[0.6666666666666666,\"#ed7953\"],[0.7777777777777778,\"#fb9f3a\"],[0.8888888888888888,\"#fdca26\"],[1.0,\"#f0f921\"]],\"diverging\":[[0,\"#8e0152\"],[0.1,\"#c51b7d\"],[0.2,\"#de77ae\"],[0.3,\"#f1b6da\"],[0.4,\"#fde0ef\"],[0.5,\"#f7f7f7\"],[0.6,\"#e6f5d0\"],[0.7,\"#b8e186\"],[0.8,\"#7fbc41\"],[0.9,\"#4d9221\"],[1,\"#276419\"]]},\"xaxis\":{\"gridcolor\":\"white\",\"linecolor\":\"white\",\"ticks\":\"\",\"title\":{\"standoff\":15},\"zerolinecolor\":\"white\",\"automargin\":true,\"zerolinewidth\":2},\"yaxis\":{\"gridcolor\":\"white\",\"linecolor\":\"white\",\"ticks\":\"\",\"title\":{\"standoff\":15},\"zerolinecolor\":\"white\",\"automargin\":true,\"zerolinewidth\":2},\"scene\":{\"xaxis\":{\"backgroundcolor\":\"#E5ECF6\",\"gridcolor\":\"white\",\"linecolor\":\"white\",\"showbackground\":true,\"ticks\":\"\",\"zerolinecolor\":\"white\",\"gridwidth\":2},\"yaxis\":{\"backgroundcolor\":\"#E5ECF6\",\"gridcolor\":\"white\",\"linecolor\":\"white\",\"showbackground\":true,\"ticks\":\"\",\"zerolinecolor\":\"white\",\"gridwidth\":2},\"zaxis\":{\"backgroundcolor\":\"#E5ECF6\",\"gridcolor\":\"white\",\"linecolor\":\"white\",\"showbackground\":true,\"ticks\":\"\",\"zerolinecolor\":\"white\",\"gridwidth\":2}},\"shapedefaults\":{\"line\":{\"color\":\"#2a3f5f\"}},\"annotationdefaults\":{\"arrowcolor\":\"#2a3f5f\",\"arrowhead\":0,\"arrowwidth\":1},\"geo\":{\"bgcolor\":\"white\",\"landcolor\":\"#E5ECF6\",\"subunitcolor\":\"white\",\"showland\":true,\"showlakes\":true,\"lakecolor\":\"white\"},\"title\":{\"x\":0.05},\"mapbox\":{\"style\":\"light\"}}}},                        {\"responsive\": true}                    ).then(function(){\n",
       "                            \n",
       "var gd = document.getElementById('39e9954f-df9a-43d4-8b65-bc628110ff18');\n",
       "var x = new MutationObserver(function (mutations, observer) {{\n",
       "        var display = window.getComputedStyle(gd).display;\n",
       "        if (!display || display === 'none') {{\n",
       "            console.log([gd, 'removed!']);\n",
       "            Plotly.purge(gd);\n",
       "            observer.disconnect();\n",
       "        }}\n",
       "}});\n",
       "\n",
       "// Listen for the removal of the full notebook cells\n",
       "var notebookContainer = gd.closest('#notebook-container');\n",
       "if (notebookContainer) {{\n",
       "    x.observe(notebookContainer, {childList: true});\n",
       "}}\n",
       "\n",
       "// Listen for the clearing of the current output cell\n",
       "var outputEl = gd.closest('.output');\n",
       "if (outputEl) {{\n",
       "    x.observe(outputEl, {childList: true});\n",
       "}}\n",
       "\n",
       "                        })                };                });            </script>        </div>"
      ]
     },
     "metadata": {},
     "output_type": "display_data"
    }
   ],
   "source": [
    "optuna.visualization.plot_param_importances(study)"
   ]
  },
  {
   "cell_type": "markdown",
   "id": "7f1b2c19",
   "metadata": {},
   "source": [
    "Finally, the trials generated within our optimization study are converted to a dataframe and saved as a csv file."
   ]
  },
  {
   "cell_type": "code",
   "execution_count": 55,
   "id": "19dc9a5e",
   "metadata": {},
   "outputs": [],
   "source": [
    "history_csv = study.trials_dataframe()"
   ]
  },
  {
   "cell_type": "code",
   "execution_count": 56,
   "id": "8d7636c6",
   "metadata": {},
   "outputs": [],
   "source": [
    "history_csv.to_csv(\"hist.csv\")"
   ]
  },
  {
   "cell_type": "code",
   "execution_count": null,
   "id": "0f3dd80b-f2f2-4a61-b69a-a95d18933c33",
   "metadata": {},
   "outputs": [],
   "source": []
  }
 ],
 "metadata": {
  "kernelspec": {
   "display_name": "Python 3 (ipykernel)",
   "language": "python",
   "name": "python3"
  },
  "language_info": {
   "codemirror_mode": {
    "name": "ipython",
    "version": 3
   },
   "file_extension": ".py",
   "mimetype": "text/x-python",
   "name": "python",
   "nbconvert_exporter": "python",
   "pygments_lexer": "ipython3",
   "version": "3.11.0"
  },
  "widgets": {
   "application/vnd.jupyter.widget-state+json": {
    "state": {},
    "version_major": 2,
    "version_minor": 0
   }
  }
 },
 "nbformat": 4,
 "nbformat_minor": 5
}
